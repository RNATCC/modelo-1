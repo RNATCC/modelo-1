{
  "nbformat": 4,
  "nbformat_minor": 0,
  "metadata": {
    "colab": {
      "name": "Explorando Dados WESAD refatorado.ipynb",
      "provenance": []
    },
    "kernelspec": {
      "name": "python3",
      "display_name": "Python 3"
    }
  },
  "cells": [
    {
      "cell_type": "markdown",
      "metadata": {
        "id": "y3yD447plfoy"
      },
      "source": [
        "## Sobre os Dados\n",
        "\n",
        "Para a construção do modelo de será usado o banco de dados WESAD (Wearable Stress and Affect Detection), disponibilizado no [Repositório de Machine Learning da UCI](https://archive.ics.uci.edu/ml/datasets/WESAD+%28Wearable+Stress+and+Affect+Detection%29).\n",
        "\n",
        "Os dados que serão utilizados nesta análise também estão disponíveis para download por meio [deste link direto](https://uni-siegen.sciebo.de/s/pYjSgfOVs6Ntahr/download),conjunto de dados é coletado de 17 assuntos diferentes, mas os sensores em 2 assuntos estavam com defeito, portanto, os dados de S1 e S12 estão ausentes. Portanto, o conjunto de dados WESAD tem 15 pastas a saber, S1 a S17 onde cada um corresponde a um assunto, cada pasta tem 5 arquivos, dos quais apenas os arquivos .pkl são de interesse, uma vez que contêm dados combinados de todos 10 sensores.\n",
        "\n",
        "Os testes a seguir serão realizados com um dos sujeitos estudafos, abaixo há os detalhes do sujeito disponilizados: \n",
        "*   Idade: 27\n",
        "*   Altura: 1,75\n",
        "*   Peso: 80kg\n",
        "*   Sexo:  Masculino\n",
        "*   Mão Dominante: Direita[texto do link](https://)\n",
        "\n"
      ]
    },
    {
      "cell_type": "code",
      "metadata": {
        "id": "nm7UcV2-E7NS",
        "outputId": "91762b95-5ffb-4a8a-81a4-8112c42c9fe3",
        "colab": {
          "base_uri": "https://localhost:8080/",
          "height": 51
        }
      },
      "source": [
        "import sys\n",
        "print(sys.version)"
      ],
      "execution_count": 94,
      "outputs": [
        {
          "output_type": "stream",
          "text": [
            "3.6.9 (default, Jul 17 2020, 12:50:27) \n",
            "[GCC 8.4.0]\n"
          ],
          "name": "stdout"
        }
      ]
    },
    {
      "cell_type": "code",
      "metadata": {
        "id": "J2NuSBbxEp5J",
        "outputId": "3c769fd5-1eb3-4e05-ecca-8fff6ed2d3e3",
        "colab": {
          "base_uri": "https://localhost:8080/",
          "height": 34
        }
      },
      "source": [
        "from google.colab import drive\n",
        "drive.mount('/content/drive')"
      ],
      "execution_count": 95,
      "outputs": [
        {
          "output_type": "stream",
          "text": [
            "Drive already mounted at /content/drive; to attempt to forcibly remount, call drive.mount(\"/content/drive\", force_remount=True).\n"
          ],
          "name": "stdout"
        }
      ]
    },
    {
      "cell_type": "code",
      "metadata": {
        "id": "Z7Yfo6Xslv1M"
      },
      "source": [
        "# importar os pacotes necessários\n",
        "import pickle\n",
        "import numpy as np\n",
        "import matplotlib\n",
        "import matplotlib.pyplot as plt\n",
        "import pandas as pd\n",
        "pickle.HIGHEST_PROTOCOL\n",
        "import seaborn as sns\n",
        "#from xgboost import XGBClassifier\n",
        "#from sklearn.model_selection import train_test_split\n",
        "#from sklearn.metrics import accuracy_score\n",
        "#from sklearn.impute import SimpleImputer\n",
        "\n",
        "# configurar o notebook\n",
        "#sns.set_style()"
      ],
      "execution_count": 96,
      "outputs": []
    },
    {
      "cell_type": "markdown",
      "metadata": {
        "id": "mGRR-C7BIJCC"
      },
      "source": [
        "# Importar os Dados"
      ]
    },
    {
      "cell_type": "code",
      "metadata": {
        "id": "1fD95uTPl8mw"
      },
      "source": [
        "#carregando o dataset\n",
        "data_set = '/content/drive/My Drive/WESAD/'\n",
        "s2_path = data_set + 'S2.pkl'\n",
        "#modificação necessária pois os dados estavam em py2 e o ambiente usa py3\n",
        "with open(s2_path, 'rb') as file:\n",
        "    s2_data = pickle.load(file, encoding='latin1')"
      ],
      "execution_count": 97,
      "outputs": []
    },
    {
      "cell_type": "markdown",
      "metadata": {
        "id": "RmWnFAV9xcYu"
      },
      "source": [
        "## Análise Exploratória\n",
        "\n",
        "A primeira coisa que faremos após importar o dataset será identificar as informações contidas no dataset. \n",
        "A primeira coisa que faremos após importar o dataset será identificar as informações contidas no dataset. \n",
        "\n",
        "Na sequência será feito uma contagem dos dados disponilizados de cada entrada disponibilizada por sensor. \n",
        "\n",
        "Por fim, considerando o estudo do[ WESAD](https://dl.acm.org/doi/10.1145/3242969.3242985) será verificado o valor mínimo e o valor máximo dos identificadores. Conforme o estudo- 'Rótulo': ID da respectiva condição do protocolo de estudo, amostrado em 700 Hz. Os seguintes IDs são fornecidos: 0 = não definido / transiente, 1 = linha de base, 2 = estresse, 3 = diversão, 4 = meditação, 5/6/7 = deve ser ignorado neste conjunto de dados\n",
        "\n",
        "* A descrição completa para cada uma das *features* está disponível [neste link](https://archive.ics.uci.edu/ml/datasets/WESAD+%28Wearable+Stress+and+Affect+Detection%29).\n",
        "\n"
      ]
    },
    {
      "cell_type": "code",
      "metadata": {
        "id": "AvxU9YfYK4yM",
        "outputId": "f96dde38-03b7-40eb-a5f4-c96d3789fe61",
        "colab": {
          "base_uri": "https://localhost:8080/",
          "height": 1000
        }
      },
      "source": [
        "count=len(s2_data['label'])\n",
        "print('Sujeito', s2_data['subject'])\n",
        "print('labels array', (s2_data['label']))\n",
        "print('sinal', s2_data['signal'])\n",
        "print('len(labels array)=',count)"
      ],
      "execution_count": 98,
      "outputs": [
        {
          "output_type": "stream",
          "text": [
            "Sujeito S2\n",
            "labels array [0 0 0 ... 0 0 0]\n",
            "sinal {'chest': {'ACC': array([[ 0.95539999, -0.222     , -0.55799997],\n",
            "       [ 0.92579997, -0.2216    , -0.55379999],\n",
            "       [ 0.90820003, -0.21960002, -0.53920001],\n",
            "       ...,\n",
            "       [ 0.87179995, -0.12379998, -0.30419999],\n",
            "       [ 0.87300003, -0.12339997, -0.30260003],\n",
            "       [ 0.87020004, -0.12199998, -0.30220002]]), 'ECG': array([[ 0.02142334],\n",
            "       [ 0.02032471],\n",
            "       [ 0.01652527],\n",
            "       ...,\n",
            "       [-0.00544739],\n",
            "       [ 0.00013733],\n",
            "       [ 0.0040741 ]]), 'EMG': array([[-0.00444031],\n",
            "       [ 0.00434875],\n",
            "       [ 0.00517273],\n",
            "       ...,\n",
            "       [-0.01716614],\n",
            "       [-0.02897644],\n",
            "       [-0.02357483]]), 'EDA': array([[5.25054932],\n",
            "       [5.26733398],\n",
            "       [5.24330139],\n",
            "       ...,\n",
            "       [0.36048889],\n",
            "       [0.36582947],\n",
            "       [0.365448  ]]), 'Temp': array([[30.120758],\n",
            "       [30.129517],\n",
            "       [30.138214],\n",
            "       ...,\n",
            "       [31.459229],\n",
            "       [31.484283],\n",
            "       [31.456268]], dtype=float32), 'Resp': array([[-1.14898682],\n",
            "       [-1.12457275],\n",
            "       [-1.15203857],\n",
            "       ...,\n",
            "       [-1.10321045],\n",
            "       [-1.08642578],\n",
            "       [-1.09710693]])}, 'wrist': {'ACC': array([[ 62., -21., 107.],\n",
            "       [ 66.,  13.,  53.],\n",
            "       [ 41.,   9.,  15.],\n",
            "       ...,\n",
            "       [ 41.,  25.,  11.],\n",
            "       [ 39.,  27.,  22.],\n",
            "       [ 56.,  26.,  10.]]), 'BVP': array([[-59.37],\n",
            "       [-53.42],\n",
            "       [-44.4 ],\n",
            "       ...,\n",
            "       [ 18.26],\n",
            "       [ 18.68],\n",
            "       [ 19.71]]), 'EDA': array([[1.138257],\n",
            "       [1.125444],\n",
            "       [1.011405],\n",
            "       ...,\n",
            "       [0.059208],\n",
            "       [0.073303],\n",
            "       [0.045113]]), 'TEMP': array([[35.41],\n",
            "       [35.41],\n",
            "       [35.41],\n",
            "       ...,\n",
            "       [34.23],\n",
            "       [34.23],\n",
            "       [34.23]])}}\n",
            "len(labels array)= 4255300\n"
          ],
          "name": "stdout"
        }
      ]
    },
    {
      "cell_type": "code",
      "metadata": {
        "id": "nVUf8xnSOP7L"
      },
      "source": [
        "#definindo dados\n",
        "c_ax=s2_data['signal']['chest']['ACC'][0:,0]\n",
        "c_ay=s2_data['signal']['chest']['ACC'][0:,1]\n",
        "c_az=s2_data['signal']['chest']['ACC'][0:,2]\n",
        "c_ecg=s2_data['signal']['chest']['ECG'][:,0]\n",
        "c_emg=s2_data['signal']['chest']['EMG'][:,0]\n",
        "c_eda=s2_data['signal']['chest']['EDA'][:,0]\n",
        "c_temp=s2_data['signal']['chest']['Temp'][:,0]\n",
        "c_resp=s2_data['signal']['chest']['Resp'][:,0]\n",
        "w_ax=s2_data['signal']['wrist']['ACC'][0:,0]\n",
        "w_ay=s2_data['signal']['wrist']['ACC'][0:,1]\n",
        "w_az=s2_data['signal']['wrist']['ACC'][0:,2]\n",
        "w_bvp=s2_data['signal']['wrist']['BVP'][:,0]\n",
        "w_eda=s2_data['signal']['wrist']['EDA'][:,0]\n",
        "w_temp=s2_data['signal']['wrist']['TEMP'][:,0]\n",
        "w_label=s2_data['label']"
      ],
      "execution_count": 99,
      "outputs": []
    },
    {
      "cell_type": "code",
      "metadata": {
        "id": "UIvbuVVcQslo",
        "outputId": "1634ddee-18ce-4a24-c137-08922171a8ce",
        "colab": {
          "base_uri": "https://localhost:8080/",
          "height": 289
        }
      },
      "source": [
        "%matplotlib inline\n",
        "print(\"c_ax\",len(c_ax))\n",
        "print(\"c_ay\",len(c_ay))\n",
        "print(\"c_az\",len(c_az))\n",
        "print(\"c_ecg\",len(c_ecg))\n",
        "print(\"c_emg\",len(c_emg))\n",
        "print(\"c_eda\",len(c_eda))\n",
        "print(\"c_temp\",len(c_temp))\n",
        "print(\"c_resp\",len(c_resp))\n",
        "print(\"w_ax\",len(w_ax))\n",
        "print(\"w_ay\",len(w_ay))\n",
        "print(\"w_az\",len(w_az))\n",
        "print(\"w_bvp\",len(w_bvp))\n",
        "print(\"w_eda\",len(w_eda))\n",
        "print(\"w_temp\",len(w_temp))\n",
        "print(w_label, len(w_label))\n",
        "print(\"Minimo valor contido no label é:\", min(w_label), \"Máximo valor contido no label é:\",max(w_label))"
      ],
      "execution_count": 100,
      "outputs": [
        {
          "output_type": "stream",
          "text": [
            "c_ax 4255300\n",
            "c_ay 4255300\n",
            "c_az 4255300\n",
            "c_ecg 4255300\n",
            "c_emg 4255300\n",
            "c_eda 4255300\n",
            "c_temp 4255300\n",
            "c_resp 4255300\n",
            "w_ax 194528\n",
            "w_ay 194528\n",
            "w_az 194528\n",
            "w_bvp 389056\n",
            "w_eda 24316\n",
            "w_temp 24316\n",
            "[0 0 0 ... 0 0 0] 4255300\n",
            "Minimo valor contido no label é: 0 Máximo valor contido no label é: 7\n"
          ],
          "name": "stdout"
        }
      ]
    },
    {
      "cell_type": "code",
      "metadata": {
        "id": "1jL_m5iLVzWY",
        "outputId": "b88b9e67-698b-4bb8-f0b6-3de89c1f4e82",
        "colab": {
          "base_uri": "https://localhost:8080/",
          "height": 653
        }
      },
      "source": [
        "fig = plt.figure()\n",
        "ax = fig.add_axes([1,1,2,2])\n",
        "langs = [\"c_ax\", \"c_ay\", \"c_az\",\"c_ecg\",\"c_emg\",\"c_eda\",\"c_temp\",\"c_resp\",\"w_ax\",\"w_ay\",\"w_az\",\"w_bvp\",\"w_eda\",\"w_temp\",\"w_label\"]\n",
        "y_ax =  [len(c_ax),len(c_ay),len(c_az),len(c_ecg),len(c_emg),len(c_eda),len(c_temp),len(c_resp),len(w_ax),len(w_ay),len(w_az),len(w_bvp),len(w_eda),len(w_temp),len(w_label)]\n",
        "ax.bar(langs,y_ax)\n",
        "\n",
        "plt.show()\n",
        "plt.savefig('f2.png',dpi=100)"
      ],
      "execution_count": 101,
      "outputs": [
        {
          "output_type": "display_data",
          "data": {
            "image/png": "[encoded data removed]",
            "text/plain": [
              "<Figure size 432x288 with 1 Axes>"
            ]
          },
          "metadata": {
            "tags": [],
            "needs_background": "light"
          }
        },
        {
          "output_type": "display_data",
          "data": {
            "text/plain": [
              "<Figure size 432x288 with 0 Axes>"
            ]
          },
          "metadata": {
            "tags": []
          }
        }
      ]
    },
    {
      "cell_type": "markdown",
      "metadata": {
        "id": "z1PJULA2aNHs"
      },
      "source": [
        "#Contagem e definição de Rótulos oferecidos pelo DataSet\n",
        "\n",
        "Há um desbalanceamenro nos valores oferecidos da variável alvo. Portanto uma matriz de confusão para validar em casos de falsos positivos\n"
      ]
    },
    {
      "cell_type": "code",
      "metadata": {
        "id": "r4INddjDaWzq",
        "outputId": "d7699ac3-aa02-4e52-e6f6-f36b0ccf32eb",
        "colab": {
          "base_uri": "https://localhost:8080/",
          "height": 692
        }
      },
      "source": [
        "baseline_indices = np.nonzero(s2_data['label']==1)[0]\n",
        "stress_indices = np.nonzero(s2_data['label']==2)[0]\n",
        "amusement_indices = np.nonzero(s2_data['label']==3)[0]\n",
        "meditation_indices = np.nonzero(s2_data['label']==4)[0]\n",
        "\n",
        "print(\"baseline_indices\", len(baseline_indices))\n",
        "print(\"stress_indices\", len(stress_indices))\n",
        "print(\"amusement_indices\", len(amusement_indices))\n",
        "print(\"meditation_indices\", len(meditation_indices))\n",
        "\n",
        "#plotando em gráfico\n",
        "fig = plt.figure()\n",
        "ax = fig.add_axes([1,1,2,2])\n",
        "langs = [\"baseline\", \"stress\", \"amusement\",\"meditation\"]\n",
        "y_ax = [len(baseline_indices),len(stress_indices),len(amusement_indices),len(meditation_indices)]\n",
        "ax.bar(langs,y_ax)\n",
        "fig.savefig('f1.png')\n",
        "plt.show()\n"
      ],
      "execution_count": 102,
      "outputs": [
        {
          "output_type": "stream",
          "text": [
            "baseline_indices 800800\n",
            "stress_indices 430500\n",
            "amusement_indices 253400\n",
            "meditation_indices 537599\n"
          ],
          "name": "stdout"
        },
        {
          "output_type": "display_data",
          "data": {
            "image/png": "[encoded data removed]",
            "text/plain": [
              "<Figure size 432x288 with 1 Axes>"
            ]
          },
          "metadata": {
            "tags": [],
            "needs_background": "light"
          }
        }
      ]
    },
    {
      "cell_type": "markdown",
      "metadata": {
        "id": "HvzOJefes9re"
      },
      "source": [
        "Definindo a média e a mediana dos rótulos a serem usados no treinamento, sendo 0 neutro(baseline) e 1 estresse (stress)"
      ]
    },
    {
      "cell_type": "code",
      "metadata": {
        "id": "EM0zzNpjtZYB",
        "outputId": "65973565-ea85-47bf-8121-61d6989a81e2",
        "colab": {
          "base_uri": "https://localhost:8080/",
          "height": 357
        }
      },
      "source": [
        "base_mean = np.mean(s2_data['signal']['chest']['EDA'][baseline_indices])\n",
        "stress_mean = np.mean(s2_data['signal']['chest']['EDA'][stress_indices])\n",
        "\n",
        "print('base média:\\t', base_mean, '\\nstress media:\\t', stress_mean, '\\n diferença:\\t', abs(base_mean - stress_mean))\n",
        "print('\\n-')\n",
        "\n",
        "\n",
        "base_median = np.median(s2_data['signal']['chest']['EMG'][baseline_indices])\n",
        "stress_median = np.median(s2_data['signal']['chest']['EMG'][stress_indices])\n",
        "\n",
        "print('base mediana:\\t', base_median , '\\nstress mediana:\\t', stress_median, '\\ndiferença:\\t', abs(base_median  - stress_median))\n",
        "print('\\n-')\n",
        "\n",
        "base_min = np.min(s2_data['signal']['chest']['EDA'][baseline_indices])\n",
        "stress_min = np.min(s2_data['signal']['chest']['EDA'][stress_indices])\n",
        "\n",
        "print('base minimo:\\t', base_min, '\\nstress minimo:\\t', stress_min, '\\ndiferença:\\t', abs(base_min - stress_min))\n",
        "print('\\n-')\n",
        "\n",
        "base_max = np.max(s2_data['signal']['chest']['EDA'][baseline_indices])\n",
        "stress_max = np.max(s2_data['signal']['chest']['EDA'][stress_indices])\n",
        "\n",
        "print('base maximo:\\t', base_max , '\\nstress maximo:\\t', stress_max, '\\ndiferença:\\t', abs(base_max  - stress_max))\n",
        "print('\\n-')"
      ],
      "execution_count": 103,
      "outputs": [
        {
          "output_type": "stream",
          "text": [
            "base média:\t 2.0565166763968756 \n",
            "stress media:\t 1.796925323876216 \n",
            " diferença:\t 0.2595913525206597\n",
            "\n",
            "-\n",
            "base mediana:\t -0.0019683837890625 \n",
            "stress mediana:\t -0.0017852783203125 \n",
            "diferença:\t 0.00018310546875\n",
            "\n",
            "-\n",
            "base minimo:\t 0.913238525390625 \n",
            "stress minimo:\t 0.968170166015625 \n",
            "diferença:\t 0.054931640625\n",
            "\n",
            "-\n",
            "base maximo:\t 5.7567596435546875 \n",
            "stress maximo:\t 3.4427642822265625 \n",
            "diferença:\t 2.313995361328125\n",
            "\n",
            "-\n"
          ],
          "name": "stdout"
        }
      ]
    },
    {
      "cell_type": "markdown",
      "metadata": {
        "id": "NoHhRq_bLEn6"
      },
      "source": [
        "# Convertendo dicionário de pickle em quadro de dados do Pandas\n",
        "\n",
        "Tendo verificado o número de dados, nota-se que o número de dados presentes nos dispositivos de peito estão completos, enquanto o número presente no conjunto de dados de pulso estão defasados.\n",
        "\n",
        "Sendo 4255300 amostras coletadas do dispositivo respiban (peito), enquanto há apenas 194528 amostras coletadas do\n",
        "dispositivo empática (pulso), dessa forma para o estudo será considerado os dados Respibiam devido ao número de dados. Para novos testes os dados de dicionário pickle serão convertidos em um quadro de dados do Pandas para novas validações."
      ]
    },
    {
      "cell_type": "code",
      "metadata": {
        "id": "cLEbhFwpdo1e",
        "outputId": "de5e069b-988d-4656-c8e8-eec2bd971d69",
        "colab": {
          "base_uri": "https://localhost:8080/",
          "height": 34
        }
      },
      "source": [
        "numpy_data1=np.array([c_ax, c_ay, c_az,c_ecg,c_emg,c_eda,c_temp,c_resp,w_label])\n",
        "numpy_data1=numpy_data1.T\n",
        "df = pd.DataFrame(data=numpy_data1, columns=[\"c_ax\", \"c_ay\", \"c_az\",\"c_ecg\",\"c_emg\",\"c_eda\",\"c_temp\",\"c_resp\",\"w_label\"]) \n",
        "\n",
        "print(\"data frame combinado\")"
      ],
      "execution_count": 104,
      "outputs": [
        {
          "output_type": "stream",
          "text": [
            "data frame combinado\n"
          ],
          "name": "stdout"
        }
      ]
    },
    {
      "cell_type": "code",
      "metadata": {
        "id": "dJD1uRUzxjrU",
        "outputId": "c0c2ae18-a5c6-41ea-b016-15b37f48ea87",
        "colab": {
          "base_uri": "https://localhost:8080/",
          "height": 68
        }
      },
      "source": [
        "# dimensões do df\n",
        "print(\"DIMENSÕES DO DATAFRAME:\")\n",
        "print(\"Linhas:\\t\\t{}\".format(df.shape[0]))\n",
        "print(\"Colunas:\\t{}\".format(df.shape[1]))"
      ],
      "execution_count": 105,
      "outputs": [
        {
          "output_type": "stream",
          "text": [
            "DIMENSÕES DO DATAFRAME:\n",
            "Linhas:\t\t4255300\n",
            "Colunas:\t9\n"
          ],
          "name": "stdout"
        }
      ]
    },
    {
      "cell_type": "code",
      "metadata": {
        "id": "9zfOZFI0xtu6",
        "outputId": "f4db9c9c-5424-4d84-9310-c21af69fe0b9",
        "colab": {
          "base_uri": "https://localhost:8080/",
          "height": 204
        }
      },
      "source": [
        "# ver as 5 primeiras entradas\n",
        "df.head()"
      ],
      "execution_count": 106,
      "outputs": [
        {
          "output_type": "execute_result",
          "data": {
            "text/html": [
              "<div>\n",
              "<style scoped>\n",
              "    .dataframe tbody tr th:only-of-type {\n",
              "        vertical-align: middle;\n",
              "    }\n",
              "\n",
              "    .dataframe tbody tr th {\n",
              "        vertical-align: top;\n",
              "    }\n",
              "\n",
              "    .dataframe thead th {\n",
              "        text-align: right;\n",
              "    }\n",
              "</style>\n",
              "<table border=\"1\" class=\"dataframe\">\n",
              "  <thead>\n",
              "    <tr style=\"text-align: right;\">\n",
              "      <th></th>\n",
              "      <th>c_ax</th>\n",
              "      <th>c_ay</th>\n",
              "      <th>c_az</th>\n",
              "      <th>c_ecg</th>\n",
              "      <th>c_emg</th>\n",
              "      <th>c_eda</th>\n",
              "      <th>c_temp</th>\n",
              "      <th>c_resp</th>\n",
              "      <th>w_label</th>\n",
              "    </tr>\n",
              "  </thead>\n",
              "  <tbody>\n",
              "    <tr>\n",
              "      <th>0</th>\n",
              "      <td>0.9554</td>\n",
              "      <td>-0.2220</td>\n",
              "      <td>-0.5580</td>\n",
              "      <td>0.021423</td>\n",
              "      <td>-0.004440</td>\n",
              "      <td>5.250549</td>\n",
              "      <td>30.120758</td>\n",
              "      <td>-1.148987</td>\n",
              "      <td>0.0</td>\n",
              "    </tr>\n",
              "    <tr>\n",
              "      <th>1</th>\n",
              "      <td>0.9258</td>\n",
              "      <td>-0.2216</td>\n",
              "      <td>-0.5538</td>\n",
              "      <td>0.020325</td>\n",
              "      <td>0.004349</td>\n",
              "      <td>5.267334</td>\n",
              "      <td>30.129517</td>\n",
              "      <td>-1.124573</td>\n",
              "      <td>0.0</td>\n",
              "    </tr>\n",
              "    <tr>\n",
              "      <th>2</th>\n",
              "      <td>0.9082</td>\n",
              "      <td>-0.2196</td>\n",
              "      <td>-0.5392</td>\n",
              "      <td>0.016525</td>\n",
              "      <td>0.005173</td>\n",
              "      <td>5.243301</td>\n",
              "      <td>30.138214</td>\n",
              "      <td>-1.152039</td>\n",
              "      <td>0.0</td>\n",
              "    </tr>\n",
              "    <tr>\n",
              "      <th>3</th>\n",
              "      <td>0.8974</td>\n",
              "      <td>-0.2102</td>\n",
              "      <td>-0.5122</td>\n",
              "      <td>0.016708</td>\n",
              "      <td>0.007187</td>\n",
              "      <td>5.249405</td>\n",
              "      <td>30.129517</td>\n",
              "      <td>-1.158142</td>\n",
              "      <td>0.0</td>\n",
              "    </tr>\n",
              "    <tr>\n",
              "      <th>4</th>\n",
              "      <td>0.8882</td>\n",
              "      <td>-0.2036</td>\n",
              "      <td>-0.4824</td>\n",
              "      <td>0.011673</td>\n",
              "      <td>-0.015152</td>\n",
              "      <td>5.286407</td>\n",
              "      <td>30.130951</td>\n",
              "      <td>-1.161194</td>\n",
              "      <td>0.0</td>\n",
              "    </tr>\n",
              "  </tbody>\n",
              "</table>\n",
              "</div>"
            ],
            "text/plain": [
              "     c_ax    c_ay    c_az     c_ecg  ...     c_eda     c_temp    c_resp  w_label\n",
              "0  0.9554 -0.2220 -0.5580  0.021423  ...  5.250549  30.120758 -1.148987      0.0\n",
              "1  0.9258 -0.2216 -0.5538  0.020325  ...  5.267334  30.129517 -1.124573      0.0\n",
              "2  0.9082 -0.2196 -0.5392  0.016525  ...  5.243301  30.138214 -1.152039      0.0\n",
              "3  0.8974 -0.2102 -0.5122  0.016708  ...  5.249405  30.129517 -1.158142      0.0\n",
              "4  0.8882 -0.2036 -0.4824  0.011673  ...  5.286407  30.130951 -1.161194      0.0\n",
              "\n",
              "[5 rows x 9 columns]"
            ]
          },
          "metadata": {
            "tags": []
          },
          "execution_count": 106
        }
      ]
    },
    {
      "cell_type": "markdown",
      "metadata": {
        "id": "ruN79pMhx5Cs"
      },
      "source": [
        "Por meio do método describe, é possível ver um resumo estatístico das variáveis numéricas."
      ]
    },
    {
      "cell_type": "code",
      "metadata": {
        "id": "bAyqxTw0mBXY",
        "outputId": "04203c66-df7c-46e4-f026-d3eceaf0732e",
        "colab": {
          "base_uri": "https://localhost:8080/",
          "height": 297
        }
      },
      "source": [
        "df.describe()"
      ],
      "execution_count": 107,
      "outputs": [
        {
          "output_type": "execute_result",
          "data": {
            "text/html": [
              "<div>\n",
              "<style scoped>\n",
              "    .dataframe tbody tr th:only-of-type {\n",
              "        vertical-align: middle;\n",
              "    }\n",
              "\n",
              "    .dataframe tbody tr th {\n",
              "        vertical-align: top;\n",
              "    }\n",
              "\n",
              "    .dataframe thead th {\n",
              "        text-align: right;\n",
              "    }\n",
              "</style>\n",
              "<table border=\"1\" class=\"dataframe\">\n",
              "  <thead>\n",
              "    <tr style=\"text-align: right;\">\n",
              "      <th></th>\n",
              "      <th>c_ax</th>\n",
              "      <th>c_ay</th>\n",
              "      <th>c_az</th>\n",
              "      <th>c_ecg</th>\n",
              "      <th>c_emg</th>\n",
              "      <th>c_eda</th>\n",
              "      <th>c_temp</th>\n",
              "      <th>c_resp</th>\n",
              "      <th>w_label</th>\n",
              "    </tr>\n",
              "  </thead>\n",
              "  <tbody>\n",
              "    <tr>\n",
              "      <th>count</th>\n",
              "      <td>4.255300e+06</td>\n",
              "      <td>4.255300e+06</td>\n",
              "      <td>4.255300e+06</td>\n",
              "      <td>4.255300e+06</td>\n",
              "      <td>4.255300e+06</td>\n",
              "      <td>4.255300e+06</td>\n",
              "      <td>4.255300e+06</td>\n",
              "      <td>4.255300e+06</td>\n",
              "      <td>4.255300e+06</td>\n",
              "    </tr>\n",
              "    <tr>\n",
              "      <th>mean</th>\n",
              "      <td>7.538656e-01</td>\n",
              "      <td>-1.331884e-01</td>\n",
              "      <td>-4.226812e-01</td>\n",
              "      <td>1.212245e-03</td>\n",
              "      <td>-2.412918e-03</td>\n",
              "      <td>1.528387e+00</td>\n",
              "      <td>3.087668e+01</td>\n",
              "      <td>5.490614e-02</td>\n",
              "      <td>1.212370e+00</td>\n",
              "    </tr>\n",
              "    <tr>\n",
              "      <th>std</th>\n",
              "      <td>1.751162e-01</td>\n",
              "      <td>6.417297e-02</td>\n",
              "      <td>3.002357e-01</td>\n",
              "      <td>1.540773e-01</td>\n",
              "      <td>1.165187e-02</td>\n",
              "      <td>1.238425e+00</td>\n",
              "      <td>1.281106e+00</td>\n",
              "      <td>2.917749e+00</td>\n",
              "      <td>1.606596e+00</td>\n",
              "    </tr>\n",
              "    <tr>\n",
              "      <th>min</th>\n",
              "      <td>2.150000e-01</td>\n",
              "      <td>-6.600000e-01</td>\n",
              "      <td>-1.135400e+00</td>\n",
              "      <td>-1.499542e+00</td>\n",
              "      <td>-4.149628e-01</td>\n",
              "      <td>2.632141e-01</td>\n",
              "      <td>2.804526e+01</td>\n",
              "      <td>-2.790375e+01</td>\n",
              "      <td>0.000000e+00</td>\n",
              "    </tr>\n",
              "    <tr>\n",
              "      <th>25%</th>\n",
              "      <td>6.210001e-01</td>\n",
              "      <td>-1.498000e-01</td>\n",
              "      <td>-7.172000e-01</td>\n",
              "      <td>-6.797791e-02</td>\n",
              "      <td>-8.331299e-03</td>\n",
              "      <td>7.995605e-01</td>\n",
              "      <td>3.057495e+01</td>\n",
              "      <td>-1.481628e+00</td>\n",
              "      <td>0.000000e+00</td>\n",
              "    </tr>\n",
              "    <tr>\n",
              "      <th>50%</th>\n",
              "      <td>8.568000e-01</td>\n",
              "      <td>-1.256000e-01</td>\n",
              "      <td>-3.222000e-01</td>\n",
              "      <td>8.239746e-03</td>\n",
              "      <td>-1.602173e-03</td>\n",
              "      <td>1.163101e+00</td>\n",
              "      <td>3.128992e+01</td>\n",
              "      <td>-1.571655e-01</td>\n",
              "      <td>0.000000e+00</td>\n",
              "    </tr>\n",
              "    <tr>\n",
              "      <th>75%</th>\n",
              "      <td>8.922000e-01</td>\n",
              "      <td>-9.579998e-02</td>\n",
              "      <td>-2.098000e-01</td>\n",
              "      <td>4.435730e-02</td>\n",
              "      <td>3.982544e-03</td>\n",
              "      <td>1.546478e+00</td>\n",
              "      <td>3.181512e+01</td>\n",
              "      <td>1.618958e+00</td>\n",
              "      <td>2.000000e+00</td>\n",
              "    </tr>\n",
              "    <tr>\n",
              "      <th>max</th>\n",
              "      <td>2.029800e+00</td>\n",
              "      <td>5.390000e-01</td>\n",
              "      <td>1.246800e+00</td>\n",
              "      <td>1.499313e+00</td>\n",
              "      <td>3.009796e-01</td>\n",
              "      <td>7.576752e+00</td>\n",
              "      <td>3.437039e+01</td>\n",
              "      <td>2.737885e+01</td>\n",
              "      <td>7.000000e+00</td>\n",
              "    </tr>\n",
              "  </tbody>\n",
              "</table>\n",
              "</div>"
            ],
            "text/plain": [
              "               c_ax          c_ay  ...        c_resp       w_label\n",
              "count  4.255300e+06  4.255300e+06  ...  4.255300e+06  4.255300e+06\n",
              "mean   7.538656e-01 -1.331884e-01  ...  5.490614e-02  1.212370e+00\n",
              "std    1.751162e-01  6.417297e-02  ...  2.917749e+00  1.606596e+00\n",
              "min    2.150000e-01 -6.600000e-01  ... -2.790375e+01  0.000000e+00\n",
              "25%    6.210001e-01 -1.498000e-01  ... -1.481628e+00  0.000000e+00\n",
              "50%    8.568000e-01 -1.256000e-01  ... -1.571655e-01  0.000000e+00\n",
              "75%    8.922000e-01 -9.579998e-02  ...  1.618958e+00  2.000000e+00\n",
              "max    2.029800e+00  5.390000e-01  ...  2.737885e+01  7.000000e+00\n",
              "\n",
              "[8 rows x 9 columns]"
            ]
          },
          "metadata": {
            "tags": []
          },
          "execution_count": 107
        }
      ]
    },
    {
      "cell_type": "markdown",
      "metadata": {
        "id": "X9i5OLtt-P43"
      },
      "source": [
        "Verificando tipo numérico dos dados, todos os dados são do tipo float"
      ]
    },
    {
      "cell_type": "code",
      "metadata": {
        "id": "4olnGxiAvUw0",
        "outputId": "574a7d88-e747-4f2c-818e-44f5e24af26f",
        "colab": {
          "base_uri": "https://localhost:8080/",
          "height": 187
        }
      },
      "source": [
        "df.dtypes"
      ],
      "execution_count": 108,
      "outputs": [
        {
          "output_type": "execute_result",
          "data": {
            "text/plain": [
              "c_ax       float64\n",
              "c_ay       float64\n",
              "c_az       float64\n",
              "c_ecg      float64\n",
              "c_emg      float64\n",
              "c_eda      float64\n",
              "c_temp     float64\n",
              "c_resp     float64\n",
              "w_label    float64\n",
              "dtype: object"
            ]
          },
          "metadata": {
            "tags": []
          },
          "execution_count": 108
        }
      ]
    },
    {
      "cell_type": "markdown",
      "metadata": {
        "id": "2aijBwMF-vQo"
      },
      "source": [
        "Verificação da presença de valores ausentes no *dataset* "
      ]
    },
    {
      "cell_type": "code",
      "metadata": {
        "id": "X1b3HY5WvdEb",
        "outputId": "2ca4befe-6324-4a42-f871-814162ccf255",
        "colab": {
          "base_uri": "https://localhost:8080/",
          "height": 187
        }
      },
      "source": [
        "df.isnull().sum()"
      ],
      "execution_count": 109,
      "outputs": [
        {
          "output_type": "execute_result",
          "data": {
            "text/plain": [
              "c_ax       0\n",
              "c_ay       0\n",
              "c_az       0\n",
              "c_ecg      0\n",
              "c_emg      0\n",
              "c_eda      0\n",
              "c_temp     0\n",
              "c_resp     0\n",
              "w_label    0\n",
              "dtype: int64"
            ]
          },
          "metadata": {
            "tags": []
          },
          "execution_count": 109
        }
      ]
    },
    {
      "cell_type": "markdown",
      "metadata": {
        "id": "NLyJr4sH_5B1"
      },
      "source": [
        "Verificar a quantidade de valores únicos "
      ]
    },
    {
      "cell_type": "code",
      "metadata": {
        "id": "03UyshwIv8_j",
        "outputId": "e58ceba5-8603-4018-f3ac-3a168bca861c",
        "colab": {
          "base_uri": "https://localhost:8080/",
          "height": 221
        }
      },
      "source": [
        "# valores únicos\n",
        "print(\"\\nVALORES ÚNICOS:\")\n",
        "print(df.nunique().sort_values())"
      ],
      "execution_count": 110,
      "outputs": [
        {
          "output_type": "stream",
          "text": [
            "\n",
            "VALORES ÚNICOS:\n",
            "w_label        7\n",
            "c_ay        4156\n",
            "c_temp      4220\n",
            "c_emg       4324\n",
            "c_ax        5808\n",
            "c_az        8236\n",
            "c_eda      18583\n",
            "c_resp     26834\n",
            "c_ecg      41266\n",
            "dtype: int64\n"
          ],
          "name": "stdout"
        }
      ]
    },
    {
      "cell_type": "markdown",
      "metadata": {
        "id": "si_uX-GEf9W4"
      },
      "source": [
        "#Calculando e Removendo Outliers\n"
      ]
    },
    {
      "cell_type": "code",
      "metadata": {
        "id": "YPDA5gvKf8Gl",
        "outputId": "a78d4352-65f0-4530-ddd9-7e0a0d7e7245",
        "colab": {
          "base_uri": "https://localhost:8080/",
          "height": 238
        }
      },
      "source": [
        "print(\"shape\",df.shape)\n",
        "Q1 = df.quantile(0.25)\n",
        "Q3 = df.quantile(0.75)\n",
        "IQR = Q3 - Q1\n",
        "print(\"IQR is\\n\", IQR)\n",
        "df_out = df[~((df < (Q1 - 1.5 * IQR)) |(df > (Q3 + 1.5 * IQR))).any(axis=1)]\n",
        "print(df_out.shape)"
      ],
      "execution_count": 111,
      "outputs": [
        {
          "output_type": "stream",
          "text": [
            "shape (4255300, 9)\n",
            "IQR is\n",
            " c_ax       0.271200\n",
            "c_ay       0.054000\n",
            "c_az       0.507400\n",
            "c_ecg      0.112335\n",
            "c_emg      0.012314\n",
            "c_eda      0.746918\n",
            "c_temp     1.240173\n",
            "c_resp     3.100586\n",
            "w_label    2.000000\n",
            "dtype: float64\n",
            "(2100456, 9)\n"
          ],
          "name": "stdout"
        }
      ]
    },
    {
      "cell_type": "markdown",
      "metadata": {
        "id": "qRGrJ04RFwyv"
      },
      "source": [
        "# Histograma\n",
        "\n",
        "Feito para avaliar a distribuição de dados"
      ]
    },
    {
      "cell_type": "code",
      "metadata": {
        "id": "6Nyl-k5fAZTP",
        "outputId": "38e54e2b-c946-4f8c-c1f0-53cbcf4c275e",
        "colab": {
          "base_uri": "https://localhost:8080/",
          "height": 488
        }
      },
      "source": [
        "# plotar o histograma das features\n",
        "fix, ax = plt.subplots(figsize=(12,8))\n",
        "df_out.hist(ax=ax)\n",
        "plt.tight_layout()\n",
        "plt.show()"
      ],
      "execution_count": 112,
      "outputs": [
        {
          "output_type": "stream",
          "text": [
            "/usr/local/lib/python3.6/dist-packages/ipykernel_launcher.py:3: UserWarning: To output multiple subplots, the figure containing the passed axes is being cleared\n",
            "  This is separate from the ipykernel package so we can avoid doing imports until\n"
          ],
          "name": "stderr"
        },
        {
          "output_type": "display_data",
          "data": {
            "image/png": "[encoded data removed]",
            "text/plain": [
              "<Figure size 864x576 with 9 Axes>"
            ]
          },
          "metadata": {
            "tags": [],
            "needs_background": "light"
          }
        }
      ]
    },
    {
      "cell_type": "markdown",
      "metadata": {
        "id": "kmaL7wxMIqyD"
      },
      "source": [
        "O gráfico abaixo demostra uma correlação positiva, dessa forma possibilita uma aprendizagem supervisionada"
      ]
    },
    {
      "cell_type": "code",
      "metadata": {
        "id": "--HipGyvDsVI",
        "outputId": "d3ed805d-c04c-4e6f-fc43-753f8d552c63",
        "colab": {
          "base_uri": "https://localhost:8080/",
          "height": 325
        }
      },
      "source": [
        "# plotar heatmap\n",
        "fig, ax = plt.subplots(figsize=(8,5))\n",
        "sns.heatmap(df_out.corr(), annot=True, cmap='coolwarm', ax=ax)\n",
        "plt.show()"
      ],
      "execution_count": 113,
      "outputs": [
        {
          "output_type": "display_data",
          "data": {
            "image/png": "[encoded data removed]",
            "text/plain": [
              "<Figure size 576x360 with 2 Axes>"
            ]
          },
          "metadata": {
            "tags": [],
            "needs_background": "light"
          }
        }
      ]
    },
    {
      "cell_type": "markdown",
      "metadata": {
        "id": "s1YdKf8ww7qm"
      },
      "source": [
        "Fontes:\n",
        "\n",
        "https://medium.com/@lucasoliveiras/primeiros-passos-com-kaggle-3871997b0868\n",
        "\n",
        "https://archive.ics.uci.edu/ml/datasets/WESAD+%28Wearable+Stress+and+Affect+Detection%29\n",
        "\n",
        "\n",
        "https://python.docow.com/1124/matriz-de-correlacao-de-plotagem-usando-pandas.html\n",
        "\n",
        "\n"
      ]
    }
  ]
}