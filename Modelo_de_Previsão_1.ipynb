{
  "nbformat": 4,
  "nbformat_minor": 0,
  "metadata": {
    "colab": {
      "name": "Modelo de Previsão 1.ipynb",
      "provenance": []
    },
    "kernelspec": {
      "name": "python3",
      "display_name": "Python 3"
    }
  },
  "cells": [
    {
      "cell_type": "markdown",
      "metadata": {
        "id": "3Ci_XGpW6IV3",
        "colab_type": "text"
      },
      "source": [
        "créditos:https://colab.research.google.com/drive/1FvBBw2JNXHy9WeJusI2PPr2PMnGVbbGM#scrollTo=GBotcBrgqR30 (lembrar de referenciar)"
      ]
    },
    {
      "cell_type": "code",
      "metadata": {
        "id": "Q72H93n2wzCF",
        "colab_type": "code",
        "colab": {}
      },
      "source": [
        "#%matplotlib inline\n",
        "import pickle\n",
        "import numpy as np\n",
        "import pandas as pd\n",
        "#from sklearn.model_selection import train_test_split\n",
        "#import seaborn as sns\n"
      ],
      "execution_count": 36,
      "outputs": []
    },
    {
      "cell_type": "code",
      "metadata": {
        "id": "E-vBUt_Jwkoi",
        "colab_type": "code",
        "colab": {
          "base_uri": "https://localhost:8080/",
          "height": 34
        },
        "outputId": "9e860e64-011c-4a78-8025-f5d5b0b0b47b"
      },
      "source": [
        "from google.colab import drive\n",
        "drive.mount('/content/drive')"
      ],
      "execution_count": 37,
      "outputs": [
        {
          "output_type": "stream",
          "text": [
            "Drive already mounted at /content/drive; to attempt to forcibly remount, call drive.mount(\"/content/drive\", force_remount=True).\n"
          ],
          "name": "stdout"
        }
      ]
    },
    {
      "cell_type": "code",
      "metadata": {
        "id": "U5-NeIBewqXX",
        "colab_type": "code",
        "colab": {}
      },
      "source": [
        "#carregando o dataset\n",
        "data_set = '/content/drive/My Drive/WESAD/'\n",
        "s2_path = data_set + 'S2.pkl'\n",
        "#modificação necessária pois os dados estavam em py2 e o ambiente usa py3\n",
        "with open(s2_path, 'rb') as file:\n",
        "    s2_data = pickle.load(file, encoding='latin1')"
      ],
      "execution_count": 38,
      "outputs": []
    },
    {
      "cell_type": "code",
      "metadata": {
        "id": "_fPRN6YBxQwG",
        "colab_type": "code",
        "colab": {}
      },
      "source": [
        "#Separando dados de peito de dados de pulso (apenas dados de peito serão considerados conforme análise dos dados)\n",
        "c_ax=s2_data['signal']['chest']['ACC'][0:,0]\n",
        "c_ay=s2_data['signal']['chest']['ACC'][0:,1]\n",
        "c_az=s2_data['signal']['chest']['ACC'][0:,2]\n",
        "c_ecg=s2_data['signal']['chest']['ECG'][:,0]\n",
        "c_emg=s2_data['signal']['chest']['EMG'][:,0]\n",
        "c_eda=s2_data['signal']['chest']['EDA'][:,0]\n",
        "c_temp=s2_data['signal']['chest']['Temp'][:,0]\n",
        "c_resp=s2_data['signal']['chest']['Resp'][:,0]\n",
        "label=s2_data['label']"
      ],
      "execution_count": 39,
      "outputs": []
    },
    {
      "cell_type": "markdown",
      "metadata": {
        "id": "SpR0_taDOIqx",
        "colab_type": "text"
      },
      "source": [
        "# Alterar o objeto de dicionário para um array numpy e o array para um dataframe\n",
        "\n",
        "*(referenciar)*\n",
        "**Python | Numpy ndarray.T**\n",
        "https://www.geeksforgeeks.org/python-numpy-ndarray-t/\n",
        "\n",
        "**Gerando e Manipulando Arrays em Python**\n",
        "https://towardsdatascience.com/numpy-array-cookbook-generating-and-manipulating-arrays-in-python-2195c3988b09"
      ]
    },
    {
      "cell_type": "code",
      "metadata": {
        "id": "57rKLABFO6nf",
        "colab_type": "code",
        "colab": {
          "base_uri": "https://localhost:8080/",
          "height": 419
        },
        "outputId": "10bed678-7eee-4584-fdd1-d1aae6637746"
      },
      "source": [
        "peito = [c_ax, c_ay, c_az, c_ecg, c_eda, c_emg, c_resp, c_temp, label]\n",
        "p_array = np.array(peito)\n",
        "p_array = p_array.T #(transposição matriz)\n",
        "Colunas = ['c_ax', 'c_ay', 'c_az', 'c_ecg', 'c_eda', 'c_emg', 'c_resp', 'c_temp', 'label']\n",
        "\n",
        "p_df = pd.DataFrame(p_array, columns = Colunas)\n",
        "p_df"
      ],
      "execution_count": 40,
      "outputs": [
        {
          "output_type": "execute_result",
          "data": {
            "text/html": [
              "<div>\n",
              "<style scoped>\n",
              "    .dataframe tbody tr th:only-of-type {\n",
              "        vertical-align: middle;\n",
              "    }\n",
              "\n",
              "    .dataframe tbody tr th {\n",
              "        vertical-align: top;\n",
              "    }\n",
              "\n",
              "    .dataframe thead th {\n",
              "        text-align: right;\n",
              "    }\n",
              "</style>\n",
              "<table border=\"1\" class=\"dataframe\">\n",
              "  <thead>\n",
              "    <tr style=\"text-align: right;\">\n",
              "      <th></th>\n",
              "      <th>c_ax</th>\n",
              "      <th>c_ay</th>\n",
              "      <th>c_az</th>\n",
              "      <th>c_ecg</th>\n",
              "      <th>c_eda</th>\n",
              "      <th>c_emg</th>\n",
              "      <th>c_resp</th>\n",
              "      <th>c_temp</th>\n",
              "      <th>label</th>\n",
              "    </tr>\n",
              "  </thead>\n",
              "  <tbody>\n",
              "    <tr>\n",
              "      <th>0</th>\n",
              "      <td>0.9554</td>\n",
              "      <td>-0.2220</td>\n",
              "      <td>-0.5580</td>\n",
              "      <td>0.021423</td>\n",
              "      <td>5.250549</td>\n",
              "      <td>-0.004440</td>\n",
              "      <td>-1.148987</td>\n",
              "      <td>30.120758</td>\n",
              "      <td>0.0</td>\n",
              "    </tr>\n",
              "    <tr>\n",
              "      <th>1</th>\n",
              "      <td>0.9258</td>\n",
              "      <td>-0.2216</td>\n",
              "      <td>-0.5538</td>\n",
              "      <td>0.020325</td>\n",
              "      <td>5.267334</td>\n",
              "      <td>0.004349</td>\n",
              "      <td>-1.124573</td>\n",
              "      <td>30.129517</td>\n",
              "      <td>0.0</td>\n",
              "    </tr>\n",
              "    <tr>\n",
              "      <th>2</th>\n",
              "      <td>0.9082</td>\n",
              "      <td>-0.2196</td>\n",
              "      <td>-0.5392</td>\n",
              "      <td>0.016525</td>\n",
              "      <td>5.243301</td>\n",
              "      <td>0.005173</td>\n",
              "      <td>-1.152039</td>\n",
              "      <td>30.138214</td>\n",
              "      <td>0.0</td>\n",
              "    </tr>\n",
              "    <tr>\n",
              "      <th>3</th>\n",
              "      <td>0.8974</td>\n",
              "      <td>-0.2102</td>\n",
              "      <td>-0.5122</td>\n",
              "      <td>0.016708</td>\n",
              "      <td>5.249405</td>\n",
              "      <td>0.007187</td>\n",
              "      <td>-1.158142</td>\n",
              "      <td>30.129517</td>\n",
              "      <td>0.0</td>\n",
              "    </tr>\n",
              "    <tr>\n",
              "      <th>4</th>\n",
              "      <td>0.8882</td>\n",
              "      <td>-0.2036</td>\n",
              "      <td>-0.4824</td>\n",
              "      <td>0.011673</td>\n",
              "      <td>5.286407</td>\n",
              "      <td>-0.015152</td>\n",
              "      <td>-1.161194</td>\n",
              "      <td>30.130951</td>\n",
              "      <td>0.0</td>\n",
              "    </tr>\n",
              "    <tr>\n",
              "      <th>...</th>\n",
              "      <td>...</td>\n",
              "      <td>...</td>\n",
              "      <td>...</td>\n",
              "      <td>...</td>\n",
              "      <td>...</td>\n",
              "      <td>...</td>\n",
              "      <td>...</td>\n",
              "      <td>...</td>\n",
              "      <td>...</td>\n",
              "    </tr>\n",
              "    <tr>\n",
              "      <th>4255295</th>\n",
              "      <td>0.8750</td>\n",
              "      <td>-0.1234</td>\n",
              "      <td>-0.2974</td>\n",
              "      <td>-0.013138</td>\n",
              "      <td>0.400162</td>\n",
              "      <td>0.020370</td>\n",
              "      <td>-1.063538</td>\n",
              "      <td>31.457733</td>\n",
              "      <td>0.0</td>\n",
              "    </tr>\n",
              "    <tr>\n",
              "      <th>4255296</th>\n",
              "      <td>0.8750</td>\n",
              "      <td>-0.1262</td>\n",
              "      <td>-0.2988</td>\n",
              "      <td>-0.010345</td>\n",
              "      <td>0.355911</td>\n",
              "      <td>0.019592</td>\n",
              "      <td>-1.106262</td>\n",
              "      <td>31.476898</td>\n",
              "      <td>0.0</td>\n",
              "    </tr>\n",
              "    <tr>\n",
              "      <th>4255297</th>\n",
              "      <td>0.8718</td>\n",
              "      <td>-0.1238</td>\n",
              "      <td>-0.3042</td>\n",
              "      <td>-0.005447</td>\n",
              "      <td>0.360489</td>\n",
              "      <td>-0.017166</td>\n",
              "      <td>-1.103210</td>\n",
              "      <td>31.459229</td>\n",
              "      <td>0.0</td>\n",
              "    </tr>\n",
              "    <tr>\n",
              "      <th>4255298</th>\n",
              "      <td>0.8730</td>\n",
              "      <td>-0.1234</td>\n",
              "      <td>-0.3026</td>\n",
              "      <td>0.000137</td>\n",
              "      <td>0.365829</td>\n",
              "      <td>-0.028976</td>\n",
              "      <td>-1.086426</td>\n",
              "      <td>31.484283</td>\n",
              "      <td>0.0</td>\n",
              "    </tr>\n",
              "    <tr>\n",
              "      <th>4255299</th>\n",
              "      <td>0.8702</td>\n",
              "      <td>-0.1220</td>\n",
              "      <td>-0.3022</td>\n",
              "      <td>0.004074</td>\n",
              "      <td>0.365448</td>\n",
              "      <td>-0.023575</td>\n",
              "      <td>-1.097107</td>\n",
              "      <td>31.456268</td>\n",
              "      <td>0.0</td>\n",
              "    </tr>\n",
              "  </tbody>\n",
              "</table>\n",
              "<p>4255300 rows × 9 columns</p>\n",
              "</div>"
            ],
            "text/plain": [
              "           c_ax    c_ay    c_az     c_ecg  ...     c_emg    c_resp     c_temp  label\n",
              "0        0.9554 -0.2220 -0.5580  0.021423  ... -0.004440 -1.148987  30.120758    0.0\n",
              "1        0.9258 -0.2216 -0.5538  0.020325  ...  0.004349 -1.124573  30.129517    0.0\n",
              "2        0.9082 -0.2196 -0.5392  0.016525  ...  0.005173 -1.152039  30.138214    0.0\n",
              "3        0.8974 -0.2102 -0.5122  0.016708  ...  0.007187 -1.158142  30.129517    0.0\n",
              "4        0.8882 -0.2036 -0.4824  0.011673  ... -0.015152 -1.161194  30.130951    0.0\n",
              "...         ...     ...     ...       ...  ...       ...       ...        ...    ...\n",
              "4255295  0.8750 -0.1234 -0.2974 -0.013138  ...  0.020370 -1.063538  31.457733    0.0\n",
              "4255296  0.8750 -0.1262 -0.2988 -0.010345  ...  0.019592 -1.106262  31.476898    0.0\n",
              "4255297  0.8718 -0.1238 -0.3042 -0.005447  ... -0.017166 -1.103210  31.459229    0.0\n",
              "4255298  0.8730 -0.1234 -0.3026  0.000137  ... -0.028976 -1.086426  31.484283    0.0\n",
              "4255299  0.8702 -0.1220 -0.3022  0.004074  ... -0.023575 -1.097107  31.456268    0.0\n",
              "\n",
              "[4255300 rows x 9 columns]"
            ]
          },
          "metadata": {
            "tags": []
          },
          "execution_count": 40
        }
      ]
    },
    {
      "cell_type": "code",
      "metadata": {
        "id": "JUdl4sz7Qp41",
        "colab_type": "code",
        "colab": {
          "base_uri": "https://localhost:8080/",
          "height": 328
        },
        "outputId": "897c7074-3352-4244-c325-337893377f48"
      },
      "source": [
        "p_df.describe().T"
      ],
      "execution_count": 41,
      "outputs": [
        {
          "output_type": "execute_result",
          "data": {
            "text/html": [
              "<div>\n",
              "<style scoped>\n",
              "    .dataframe tbody tr th:only-of-type {\n",
              "        vertical-align: middle;\n",
              "    }\n",
              "\n",
              "    .dataframe tbody tr th {\n",
              "        vertical-align: top;\n",
              "    }\n",
              "\n",
              "    .dataframe thead th {\n",
              "        text-align: right;\n",
              "    }\n",
              "</style>\n",
              "<table border=\"1\" class=\"dataframe\">\n",
              "  <thead>\n",
              "    <tr style=\"text-align: right;\">\n",
              "      <th></th>\n",
              "      <th>count</th>\n",
              "      <th>mean</th>\n",
              "      <th>std</th>\n",
              "      <th>min</th>\n",
              "      <th>25%</th>\n",
              "      <th>50%</th>\n",
              "      <th>75%</th>\n",
              "      <th>max</th>\n",
              "    </tr>\n",
              "  </thead>\n",
              "  <tbody>\n",
              "    <tr>\n",
              "      <th>c_ax</th>\n",
              "      <td>4255300.0</td>\n",
              "      <td>0.753866</td>\n",
              "      <td>0.175116</td>\n",
              "      <td>0.215000</td>\n",
              "      <td>0.621000</td>\n",
              "      <td>0.856800</td>\n",
              "      <td>0.892200</td>\n",
              "      <td>2.029800</td>\n",
              "    </tr>\n",
              "    <tr>\n",
              "      <th>c_ay</th>\n",
              "      <td>4255300.0</td>\n",
              "      <td>-0.133188</td>\n",
              "      <td>0.064173</td>\n",
              "      <td>-0.660000</td>\n",
              "      <td>-0.149800</td>\n",
              "      <td>-0.125600</td>\n",
              "      <td>-0.095800</td>\n",
              "      <td>0.539000</td>\n",
              "    </tr>\n",
              "    <tr>\n",
              "      <th>c_az</th>\n",
              "      <td>4255300.0</td>\n",
              "      <td>-0.422681</td>\n",
              "      <td>0.300236</td>\n",
              "      <td>-1.135400</td>\n",
              "      <td>-0.717200</td>\n",
              "      <td>-0.322200</td>\n",
              "      <td>-0.209800</td>\n",
              "      <td>1.246800</td>\n",
              "    </tr>\n",
              "    <tr>\n",
              "      <th>c_ecg</th>\n",
              "      <td>4255300.0</td>\n",
              "      <td>0.001212</td>\n",
              "      <td>0.154077</td>\n",
              "      <td>-1.499542</td>\n",
              "      <td>-0.067978</td>\n",
              "      <td>0.008240</td>\n",
              "      <td>0.044357</td>\n",
              "      <td>1.499313</td>\n",
              "    </tr>\n",
              "    <tr>\n",
              "      <th>c_eda</th>\n",
              "      <td>4255300.0</td>\n",
              "      <td>1.528387</td>\n",
              "      <td>1.238425</td>\n",
              "      <td>0.263214</td>\n",
              "      <td>0.799561</td>\n",
              "      <td>1.163101</td>\n",
              "      <td>1.546478</td>\n",
              "      <td>7.576752</td>\n",
              "    </tr>\n",
              "    <tr>\n",
              "      <th>c_emg</th>\n",
              "      <td>4255300.0</td>\n",
              "      <td>-0.002413</td>\n",
              "      <td>0.011652</td>\n",
              "      <td>-0.414963</td>\n",
              "      <td>-0.008331</td>\n",
              "      <td>-0.001602</td>\n",
              "      <td>0.003983</td>\n",
              "      <td>0.300980</td>\n",
              "    </tr>\n",
              "    <tr>\n",
              "      <th>c_resp</th>\n",
              "      <td>4255300.0</td>\n",
              "      <td>0.054906</td>\n",
              "      <td>2.917749</td>\n",
              "      <td>-27.903748</td>\n",
              "      <td>-1.481628</td>\n",
              "      <td>-0.157166</td>\n",
              "      <td>1.618958</td>\n",
              "      <td>27.378845</td>\n",
              "    </tr>\n",
              "    <tr>\n",
              "      <th>c_temp</th>\n",
              "      <td>4255300.0</td>\n",
              "      <td>30.876676</td>\n",
              "      <td>1.281106</td>\n",
              "      <td>28.045258</td>\n",
              "      <td>30.574951</td>\n",
              "      <td>31.289917</td>\n",
              "      <td>31.815125</td>\n",
              "      <td>34.370392</td>\n",
              "    </tr>\n",
              "    <tr>\n",
              "      <th>label</th>\n",
              "      <td>4255300.0</td>\n",
              "      <td>1.212370</td>\n",
              "      <td>1.606596</td>\n",
              "      <td>0.000000</td>\n",
              "      <td>0.000000</td>\n",
              "      <td>0.000000</td>\n",
              "      <td>2.000000</td>\n",
              "      <td>7.000000</td>\n",
              "    </tr>\n",
              "  </tbody>\n",
              "</table>\n",
              "</div>"
            ],
            "text/plain": [
              "            count       mean       std  ...        50%        75%        max\n",
              "c_ax    4255300.0   0.753866  0.175116  ...   0.856800   0.892200   2.029800\n",
              "c_ay    4255300.0  -0.133188  0.064173  ...  -0.125600  -0.095800   0.539000\n",
              "c_az    4255300.0  -0.422681  0.300236  ...  -0.322200  -0.209800   1.246800\n",
              "c_ecg   4255300.0   0.001212  0.154077  ...   0.008240   0.044357   1.499313\n",
              "c_eda   4255300.0   1.528387  1.238425  ...   1.163101   1.546478   7.576752\n",
              "c_emg   4255300.0  -0.002413  0.011652  ...  -0.001602   0.003983   0.300980\n",
              "c_resp  4255300.0   0.054906  2.917749  ...  -0.157166   1.618958  27.378845\n",
              "c_temp  4255300.0  30.876676  1.281106  ...  31.289917  31.815125  34.370392\n",
              "label   4255300.0   1.212370  1.606596  ...   0.000000   2.000000   7.000000\n",
              "\n",
              "[9 rows x 8 columns]"
            ]
          },
          "metadata": {
            "tags": []
          },
          "execution_count": 41
        }
      ]
    },
    {
      "cell_type": "code",
      "metadata": {
        "id": "GJUa_k_Sg371",
        "colab_type": "code",
        "colab": {
          "base_uri": "https://localhost:8080/",
          "height": 68
        },
        "outputId": "6fb0e026-5e49-469a-9f1d-47ece714398c"
      },
      "source": [
        "p_df.columns"
      ],
      "execution_count": 42,
      "outputs": [
        {
          "output_type": "execute_result",
          "data": {
            "text/plain": [
              "Index(['c_ax', 'c_ay', 'c_az', 'c_ecg', 'c_eda', 'c_emg', 'c_resp', 'c_temp',\n",
              "       'label'],\n",
              "      dtype='object')"
            ]
          },
          "metadata": {
            "tags": []
          },
          "execution_count": 42
        }
      ]
    },
    {
      "cell_type": "markdown",
      "metadata": {
        "id": "hoBSO92XQ8mq",
        "colab_type": "text"
      },
      "source": [
        "Identificando os rótulos, usando apenas:\n",
        "neutro: 0\n",
        "stress: 1\n",
        "diversão: 2\n",
        "\n",
        "Os demais serão desconsiderados nesse estudo"
      ]
    },
    {
      "cell_type": "code",
      "metadata": {
        "id": "vkW_AcVVSGm_",
        "colab_type": "code",
        "colab": {
          "base_uri": "https://localhost:8080/",
          "height": 419
        },
        "outputId": "481a0b77-85bd-4f90-b8c9-e19bb85faab5"
      },
      "source": [
        "neutro = p_df.loc[p_df['label'] == 0]\n",
        "stress = p_df.loc[p_df['label'] == 1]\n",
        "diversao = p_df.loc[p_df['label'] == 2]\n",
        "\n",
        "p_loc = pd.concat([neutro, stress, diversao])\n",
        "p_loc"
      ],
      "execution_count": 43,
      "outputs": [
        {
          "output_type": "execute_result",
          "data": {
            "text/html": [
              "<div>\n",
              "<style scoped>\n",
              "    .dataframe tbody tr th:only-of-type {\n",
              "        vertical-align: middle;\n",
              "    }\n",
              "\n",
              "    .dataframe tbody tr th {\n",
              "        vertical-align: top;\n",
              "    }\n",
              "\n",
              "    .dataframe thead th {\n",
              "        text-align: right;\n",
              "    }\n",
              "</style>\n",
              "<table border=\"1\" class=\"dataframe\">\n",
              "  <thead>\n",
              "    <tr style=\"text-align: right;\">\n",
              "      <th></th>\n",
              "      <th>c_ax</th>\n",
              "      <th>c_ay</th>\n",
              "      <th>c_az</th>\n",
              "      <th>c_ecg</th>\n",
              "      <th>c_eda</th>\n",
              "      <th>c_emg</th>\n",
              "      <th>c_resp</th>\n",
              "      <th>c_temp</th>\n",
              "      <th>label</th>\n",
              "    </tr>\n",
              "  </thead>\n",
              "  <tbody>\n",
              "    <tr>\n",
              "      <th>0</th>\n",
              "      <td>0.9554</td>\n",
              "      <td>-0.2220</td>\n",
              "      <td>-0.5580</td>\n",
              "      <td>0.021423</td>\n",
              "      <td>5.250549</td>\n",
              "      <td>-0.004440</td>\n",
              "      <td>-1.148987</td>\n",
              "      <td>30.120758</td>\n",
              "      <td>0.0</td>\n",
              "    </tr>\n",
              "    <tr>\n",
              "      <th>1</th>\n",
              "      <td>0.9258</td>\n",
              "      <td>-0.2216</td>\n",
              "      <td>-0.5538</td>\n",
              "      <td>0.020325</td>\n",
              "      <td>5.267334</td>\n",
              "      <td>0.004349</td>\n",
              "      <td>-1.124573</td>\n",
              "      <td>30.129517</td>\n",
              "      <td>0.0</td>\n",
              "    </tr>\n",
              "    <tr>\n",
              "      <th>2</th>\n",
              "      <td>0.9082</td>\n",
              "      <td>-0.2196</td>\n",
              "      <td>-0.5392</td>\n",
              "      <td>0.016525</td>\n",
              "      <td>5.243301</td>\n",
              "      <td>0.005173</td>\n",
              "      <td>-1.152039</td>\n",
              "      <td>30.138214</td>\n",
              "      <td>0.0</td>\n",
              "    </tr>\n",
              "    <tr>\n",
              "      <th>3</th>\n",
              "      <td>0.8974</td>\n",
              "      <td>-0.2102</td>\n",
              "      <td>-0.5122</td>\n",
              "      <td>0.016708</td>\n",
              "      <td>5.249405</td>\n",
              "      <td>0.007187</td>\n",
              "      <td>-1.158142</td>\n",
              "      <td>30.129517</td>\n",
              "      <td>0.0</td>\n",
              "    </tr>\n",
              "    <tr>\n",
              "      <th>4</th>\n",
              "      <td>0.8882</td>\n",
              "      <td>-0.2036</td>\n",
              "      <td>-0.4824</td>\n",
              "      <td>0.011673</td>\n",
              "      <td>5.286407</td>\n",
              "      <td>-0.015152</td>\n",
              "      <td>-1.161194</td>\n",
              "      <td>30.130951</td>\n",
              "      <td>0.0</td>\n",
              "    </tr>\n",
              "    <tr>\n",
              "      <th>...</th>\n",
              "      <td>...</td>\n",
              "      <td>...</td>\n",
              "      <td>...</td>\n",
              "      <td>...</td>\n",
              "      <td>...</td>\n",
              "      <td>...</td>\n",
              "      <td>...</td>\n",
              "      <td>...</td>\n",
              "      <td>...</td>\n",
              "    </tr>\n",
              "    <tr>\n",
              "      <th>2021977</th>\n",
              "      <td>0.8760</td>\n",
              "      <td>-0.1346</td>\n",
              "      <td>-0.3020</td>\n",
              "      <td>0.001328</td>\n",
              "      <td>3.075409</td>\n",
              "      <td>-0.004715</td>\n",
              "      <td>-1.161194</td>\n",
              "      <td>31.163483</td>\n",
              "      <td>2.0</td>\n",
              "    </tr>\n",
              "    <tr>\n",
              "      <th>2021978</th>\n",
              "      <td>0.8770</td>\n",
              "      <td>-0.1352</td>\n",
              "      <td>-0.2998</td>\n",
              "      <td>0.003433</td>\n",
              "      <td>3.059769</td>\n",
              "      <td>-0.003937</td>\n",
              "      <td>-1.124573</td>\n",
              "      <td>31.090057</td>\n",
              "      <td>2.0</td>\n",
              "    </tr>\n",
              "    <tr>\n",
              "      <th>2021979</th>\n",
              "      <td>0.8806</td>\n",
              "      <td>-0.1334</td>\n",
              "      <td>-0.2978</td>\n",
              "      <td>0.003616</td>\n",
              "      <td>3.078079</td>\n",
              "      <td>-0.009018</td>\n",
              "      <td>-1.097107</td>\n",
              "      <td>31.098877</td>\n",
              "      <td>2.0</td>\n",
              "    </tr>\n",
              "    <tr>\n",
              "      <th>2021980</th>\n",
              "      <td>0.8778</td>\n",
              "      <td>-0.1314</td>\n",
              "      <td>-0.2964</td>\n",
              "      <td>0.003525</td>\n",
              "      <td>3.058624</td>\n",
              "      <td>0.004944</td>\n",
              "      <td>-1.103210</td>\n",
              "      <td>31.101807</td>\n",
              "      <td>2.0</td>\n",
              "    </tr>\n",
              "    <tr>\n",
              "      <th>2021981</th>\n",
              "      <td>0.8766</td>\n",
              "      <td>-0.1310</td>\n",
              "      <td>-0.2962</td>\n",
              "      <td>0.000320</td>\n",
              "      <td>3.083801</td>\n",
              "      <td>0.003891</td>\n",
              "      <td>-1.087952</td>\n",
              "      <td>31.098877</td>\n",
              "      <td>2.0</td>\n",
              "    </tr>\n",
              "  </tbody>\n",
              "</table>\n",
              "<p>3374001 rows × 9 columns</p>\n",
              "</div>"
            ],
            "text/plain": [
              "           c_ax    c_ay    c_az     c_ecg  ...     c_emg    c_resp     c_temp  label\n",
              "0        0.9554 -0.2220 -0.5580  0.021423  ... -0.004440 -1.148987  30.120758    0.0\n",
              "1        0.9258 -0.2216 -0.5538  0.020325  ...  0.004349 -1.124573  30.129517    0.0\n",
              "2        0.9082 -0.2196 -0.5392  0.016525  ...  0.005173 -1.152039  30.138214    0.0\n",
              "3        0.8974 -0.2102 -0.5122  0.016708  ...  0.007187 -1.158142  30.129517    0.0\n",
              "4        0.8882 -0.2036 -0.4824  0.011673  ... -0.015152 -1.161194  30.130951    0.0\n",
              "...         ...     ...     ...       ...  ...       ...       ...        ...    ...\n",
              "2021977  0.8760 -0.1346 -0.3020  0.001328  ... -0.004715 -1.161194  31.163483    2.0\n",
              "2021978  0.8770 -0.1352 -0.2998  0.003433  ... -0.003937 -1.124573  31.090057    2.0\n",
              "2021979  0.8806 -0.1334 -0.2978  0.003616  ... -0.009018 -1.097107  31.098877    2.0\n",
              "2021980  0.8778 -0.1314 -0.2964  0.003525  ...  0.004944 -1.103210  31.101807    2.0\n",
              "2021981  0.8766 -0.1310 -0.2962  0.000320  ...  0.003891 -1.087952  31.098877    2.0\n",
              "\n",
              "[3374001 rows x 9 columns]"
            ]
          },
          "metadata": {
            "tags": []
          },
          "execution_count": 43
        }
      ]
    },
    {
      "cell_type": "code",
      "metadata": {
        "id": "RENz86yE1Stw",
        "colab_type": "code",
        "colab": {}
      },
      "source": [
        "import sklearn\n",
        "from sklearn.preprocessing import MinMaxScaler\n",
        "from sklearn.model_selection import train_test_split\n",
        "\n",
        "import tensorflow as tf\n",
        "\n",
        "import keras\n",
        "from keras.utils import to_categorical\n"
      ],
      "execution_count": 44,
      "outputs": []
    },
    {
      "cell_type": "markdown",
      "metadata": {
        "id": "uejAQTM47prb",
        "colab_type": "text"
      },
      "source": [
        "# Normalizando dados: train test\n",
        "\n",
        "https://pandas.pydata.org/pandas-docs/stable/reference/api/pandas.DataFrame.set_axis.html (referenciar)"
      ]
    },
    {
      "cell_type": "markdown",
      "metadata": {
        "id": "WsQjhvkI5lp0",
        "colab_type": "text"
      },
      "source": [
        "(referenciar)\n",
        "https://scikit-learn.org/stable/modules/preprocessing.html \n",
        "https://scikit-learn.org/stable/modules/generated/sklearn.model_selection.train_test_split.html"
      ]
    },
    {
      "cell_type": "code",
      "metadata": {
        "id": "x2NKOoJeYQq9",
        "colab_type": "code",
        "colab": {
          "base_uri": "https://localhost:8080/",
          "height": 51
        },
        "outputId": "f8fc193f-fe45-4d02-cb2d-4e3706ce06fa"
      },
      "source": [
        "x = p_loc.drop('label',axis=1).values\n",
        "y = to_categorical(p_loc['label'])\n",
        "\n",
        "scaler = MinMaxScaler(feature_range= (0,1))\n",
        "x = scaler.fit_transform(x)\n",
        "\n",
        "x_train, x_test, y_train, y_test = train_test_split(x, y, test_size=0.2)\n",
        "print(x_train.shape)\n",
        "print(y_test.shape)\n",
        "evalSet = [(x_train, y_train), (x_test, y_test)]\n",
        "\n"
      ],
      "execution_count": 45,
      "outputs": [
        {
          "output_type": "stream",
          "text": [
            "(2699200, 8)\n",
            "(674801, 3)\n"
          ],
          "name": "stdout"
        }
      ]
    },
    {
      "cell_type": "code",
      "metadata": {
        "id": "ZSKKfMlLJT8T",
        "colab_type": "code",
        "colab": {
          "base_uri": "https://localhost:8080/",
          "height": 357
        },
        "outputId": "f8086757-92e4-41b3-f0a5-9c30a3c567a1"
      },
      "source": [
        "x_train = np.reshape(x_train, (x_train.shape[0], 1, x_train.shape[1]))\n",
        "x_test = np.reshape(x_test, (x_test.shape[0], 1, x_test.shape[1]))"
      ],
      "execution_count": 48,
      "outputs": [
        {
          "output_type": "error",
          "ename": "ValueError",
          "evalue": "ignored",
          "traceback": [
            "\u001b[0;31m---------------------------------------------------------------------------\u001b[0m",
            "\u001b[0;31mValueError\u001b[0m                                Traceback (most recent call last)",
            "\u001b[0;32m<ipython-input-48-f9a734484f8e>\u001b[0m in \u001b[0;36m<module>\u001b[0;34m()\u001b[0m\n\u001b[0;32m----> 1\u001b[0;31m \u001b[0mx_train\u001b[0m \u001b[0;34m=\u001b[0m \u001b[0mnp\u001b[0m\u001b[0;34m.\u001b[0m\u001b[0mreshape\u001b[0m\u001b[0;34m(\u001b[0m\u001b[0mx_train\u001b[0m\u001b[0;34m,\u001b[0m \u001b[0;34m(\u001b[0m\u001b[0mx_train\u001b[0m\u001b[0;34m.\u001b[0m\u001b[0mshape\u001b[0m\u001b[0;34m[\u001b[0m\u001b[0;36m0\u001b[0m\u001b[0;34m]\u001b[0m\u001b[0;34m,\u001b[0m \u001b[0;36m1\u001b[0m\u001b[0;34m,\u001b[0m \u001b[0mx_train\u001b[0m\u001b[0;34m.\u001b[0m\u001b[0mshape\u001b[0m\u001b[0;34m[\u001b[0m\u001b[0;36m1\u001b[0m\u001b[0;34m]\u001b[0m\u001b[0;34m)\u001b[0m\u001b[0;34m)\u001b[0m\u001b[0;34m\u001b[0m\u001b[0;34m\u001b[0m\u001b[0m\n\u001b[0m\u001b[1;32m      2\u001b[0m \u001b[0mx_test\u001b[0m \u001b[0;34m=\u001b[0m \u001b[0mnp\u001b[0m\u001b[0;34m.\u001b[0m\u001b[0mreshape\u001b[0m\u001b[0;34m(\u001b[0m\u001b[0mx_test\u001b[0m\u001b[0;34m,\u001b[0m \u001b[0;34m(\u001b[0m\u001b[0mx_test\u001b[0m\u001b[0;34m.\u001b[0m\u001b[0mshape\u001b[0m\u001b[0;34m[\u001b[0m\u001b[0;36m0\u001b[0m\u001b[0;34m]\u001b[0m\u001b[0;34m,\u001b[0m \u001b[0;36m1\u001b[0m\u001b[0;34m,\u001b[0m \u001b[0mx_test\u001b[0m\u001b[0;34m.\u001b[0m\u001b[0mshape\u001b[0m\u001b[0;34m[\u001b[0m\u001b[0;36m1\u001b[0m\u001b[0;34m]\u001b[0m\u001b[0;34m)\u001b[0m\u001b[0;34m)\u001b[0m\u001b[0;34m\u001b[0m\u001b[0;34m\u001b[0m\u001b[0m\n",
            "\u001b[0;32m<__array_function__ internals>\u001b[0m in \u001b[0;36mreshape\u001b[0;34m(*args, **kwargs)\u001b[0m\n",
            "\u001b[0;32m/usr/local/lib/python3.6/dist-packages/numpy/core/fromnumeric.py\u001b[0m in \u001b[0;36mreshape\u001b[0;34m(a, newshape, order)\u001b[0m\n\u001b[1;32m    299\u001b[0m            [5, 6]])\n\u001b[1;32m    300\u001b[0m     \"\"\"\n\u001b[0;32m--> 301\u001b[0;31m     \u001b[0;32mreturn\u001b[0m \u001b[0m_wrapfunc\u001b[0m\u001b[0;34m(\u001b[0m\u001b[0ma\u001b[0m\u001b[0;34m,\u001b[0m \u001b[0;34m'reshape'\u001b[0m\u001b[0;34m,\u001b[0m \u001b[0mnewshape\u001b[0m\u001b[0;34m,\u001b[0m \u001b[0morder\u001b[0m\u001b[0;34m=\u001b[0m\u001b[0morder\u001b[0m\u001b[0;34m)\u001b[0m\u001b[0;34m\u001b[0m\u001b[0;34m\u001b[0m\u001b[0m\n\u001b[0m\u001b[1;32m    302\u001b[0m \u001b[0;34m\u001b[0m\u001b[0m\n\u001b[1;32m    303\u001b[0m \u001b[0;34m\u001b[0m\u001b[0m\n",
            "\u001b[0;32m/usr/local/lib/python3.6/dist-packages/numpy/core/fromnumeric.py\u001b[0m in \u001b[0;36m_wrapfunc\u001b[0;34m(obj, method, *args, **kwds)\u001b[0m\n\u001b[1;32m     59\u001b[0m \u001b[0;34m\u001b[0m\u001b[0m\n\u001b[1;32m     60\u001b[0m     \u001b[0;32mtry\u001b[0m\u001b[0;34m:\u001b[0m\u001b[0;34m\u001b[0m\u001b[0;34m\u001b[0m\u001b[0m\n\u001b[0;32m---> 61\u001b[0;31m         \u001b[0;32mreturn\u001b[0m \u001b[0mbound\u001b[0m\u001b[0;34m(\u001b[0m\u001b[0;34m*\u001b[0m\u001b[0margs\u001b[0m\u001b[0;34m,\u001b[0m \u001b[0;34m**\u001b[0m\u001b[0mkwds\u001b[0m\u001b[0;34m)\u001b[0m\u001b[0;34m\u001b[0m\u001b[0;34m\u001b[0m\u001b[0m\n\u001b[0m\u001b[1;32m     62\u001b[0m     \u001b[0;32mexcept\u001b[0m \u001b[0mTypeError\u001b[0m\u001b[0;34m:\u001b[0m\u001b[0;34m\u001b[0m\u001b[0;34m\u001b[0m\u001b[0m\n\u001b[1;32m     63\u001b[0m         \u001b[0;31m# A TypeError occurs if the object does have such a method in its\u001b[0m\u001b[0;34m\u001b[0m\u001b[0;34m\u001b[0m\u001b[0;34m\u001b[0m\u001b[0m\n",
            "\u001b[0;31mValueError\u001b[0m: cannot reshape array of size 21593600 into shape (2699200,1,1)"
          ]
        }
      ]
    }
  ]
}