{
  "nbformat": 4,
  "nbformat_minor": 0,
  "metadata": {
    "colab": {
      "name": "Modelo_de_Previsão_1 ok.ipynb",
      "provenance": []
    },
    "kernelspec": {
      "name": "python3",
      "display_name": "Python 3"
    }
  },
  "cells": [
    {
      "cell_type": "markdown",
      "metadata": {
        "id": "3Ci_XGpW6IV3"
      },
      "source": [
        "créditos:https://colab.research.google.com/drive/1FvBBw2JNXHy9WeJusI2PPr2PMnGVbbGM#scrollTo=GBotcBrgqR30 (lembrar de referenciar)"
      ]
    },
    {
      "cell_type": "code",
      "metadata": {
        "id": "Q72H93n2wzCF",
        "outputId": "ac22d78c-e7b1-4adb-b0a2-b4ad919b29c1",
        "colab": {
          "base_uri": "https://localhost:8080/",
          "height": 71
        }
      },
      "source": [
        "#%matplotlib inline\n",
        "import pickle\n",
        "import numpy as np\n",
        "import pandas as pd\n",
        "from sklearn.model_selection import train_test_split\n",
        "import seaborn as sns\n"
      ],
      "execution_count": 2,
      "outputs": [
        {
          "output_type": "stream",
          "text": [
            "/usr/local/lib/python3.6/dist-packages/statsmodels/tools/_testing.py:19: FutureWarning: pandas.util.testing is deprecated. Use the functions in the public API at pandas.testing instead.\n",
            "  import pandas.util.testing as tm\n"
          ],
          "name": "stderr"
        }
      ]
    },
    {
      "cell_type": "code",
      "metadata": {
        "id": "E-vBUt_Jwkoi",
        "outputId": "46cfb428-5c92-40d2-eabb-1de4aca158d7",
        "colab": {
          "base_uri": "https://localhost:8080/",
          "height": 34
        }
      },
      "source": [
        "from google.colab import drive\n",
        "drive.mount('/content/drive')"
      ],
      "execution_count": 3,
      "outputs": [
        {
          "output_type": "stream",
          "text": [
            "Mounted at /content/drive\n"
          ],
          "name": "stdout"
        }
      ]
    },
    {
      "cell_type": "code",
      "metadata": {
        "id": "U5-NeIBewqXX"
      },
      "source": [
        "#carregando o dataset\n",
        "data_set = '/content/drive/My Drive/WESAD/'\n",
        "s2_path = data_set + 'S2.pkl'\n",
        "#modificação necessária pois os dados estavam em py2 e o ambiente usa py3\n",
        "with open(s2_path, 'rb') as file:\n",
        "    s2_data = pickle.load(file, encoding='latin1')"
      ],
      "execution_count": 4,
      "outputs": []
    },
    {
      "cell_type": "code",
      "metadata": {
        "id": "_fPRN6YBxQwG"
      },
      "source": [
        "#Separando dados de peito de dados de pulso (apenas dados de peito serão considerados conforme análise dos dados)\n",
        "c_ax=s2_data['signal']['chest']['ACC'][0:,0]\n",
        "c_ay=s2_data['signal']['chest']['ACC'][0:,1]\n",
        "c_az=s2_data['signal']['chest']['ACC'][0:,2]\n",
        "c_ecg=s2_data['signal']['chest']['ECG'][:,0]\n",
        "c_emg=s2_data['signal']['chest']['EMG'][:,0]\n",
        "c_eda=s2_data['signal']['chest']['EDA'][:,0]\n",
        "c_temp=s2_data['signal']['chest']['Temp'][:,0]\n",
        "c_resp=s2_data['signal']['chest']['Resp'][:,0]\n",
        "label=s2_data['label']"
      ],
      "execution_count": 5,
      "outputs": []
    },
    {
      "cell_type": "markdown",
      "metadata": {
        "id": "SpR0_taDOIqx"
      },
      "source": [
        "# Alterar o objeto de dicionário para um array numpy e o array para um dataframe\n",
        "\n",
        "*(referenciar)*\n",
        "**Python | Numpy ndarray.T**\n",
        "https://www.geeksforgeeks.org/python-numpy-ndarray-t/\n",
        "\n",
        "**Gerando e Manipulando Arrays em Python**\n",
        "https://towardsdatascience.com/numpy-array-cookbook-generating-and-manipulating-arrays-in-python-2195c3988b09"
      ]
    },
    {
      "cell_type": "code",
      "metadata": {
        "id": "57rKLABFO6nf"
      },
      "source": [
        "peito = [c_ax, c_ay, c_az, c_ecg, c_eda, c_emg, c_resp, c_temp, label]\n",
        "p_array = np.array(peito)\n",
        "p_array = p_array.T #(transposição matriz)\n",
        "Colunas = ['c_ax', 'c_ay', 'c_az', 'c_ecg', 'c_eda', 'c_emg', 'c_resp', 'c_temp', 'label']\n",
        "\n",
        "p_df = pd.DataFrame(p_array, columns = Colunas)\n",
        "p_df"
      ],
      "execution_count": null,
      "outputs": []
    },
    {
      "cell_type": "code",
      "metadata": {
        "id": "JUdl4sz7Qp41"
      },
      "source": [
        "p_df.describe().T"
      ],
      "execution_count": null,
      "outputs": []
    },
    {
      "cell_type": "markdown",
      "metadata": {
        "id": "hoBSO92XQ8mq"
      },
      "source": [
        "Identificando os rótulos, usando apenas:\n",
        "neutro: 0\n",
        "stress: 1\n",
        "diversão: 2\n",
        "\n",
        "Os demais serão desconsiderados nesse estudo"
      ]
    },
    {
      "cell_type": "code",
      "metadata": {
        "id": "vkW_AcVVSGm_",
        "outputId": "8d78fce4-c7dd-4ba5-dd0b-a5c096b51b60",
        "colab": {
          "base_uri": "https://localhost:8080/",
          "height": 419
        }
      },
      "source": [
        "neutro = p_df.loc[p_df['label'] == 1]\n",
        "stress = p_df.loc[p_df['label'] == 2]\n",
        "\n",
        "\n",
        "p_loc = pd.concat([neutro, stress])\n",
        "p_loc"
      ],
      "execution_count": 32,
      "outputs": [
        {
          "output_type": "execute_result",
          "data": {
            "text/html": [
              "<div>\n",
              "<style scoped>\n",
              "    .dataframe tbody tr th:only-of-type {\n",
              "        vertical-align: middle;\n",
              "    }\n",
              "\n",
              "    .dataframe tbody tr th {\n",
              "        vertical-align: top;\n",
              "    }\n",
              "\n",
              "    .dataframe thead th {\n",
              "        text-align: right;\n",
              "    }\n",
              "</style>\n",
              "<table border=\"1\" class=\"dataframe\">\n",
              "  <thead>\n",
              "    <tr style=\"text-align: right;\">\n",
              "      <th></th>\n",
              "      <th>c_ax</th>\n",
              "      <th>c_ay</th>\n",
              "      <th>c_az</th>\n",
              "      <th>c_ecg</th>\n",
              "      <th>c_eda</th>\n",
              "      <th>c_emg</th>\n",
              "      <th>c_resp</th>\n",
              "      <th>c_temp</th>\n",
              "      <th>label</th>\n",
              "    </tr>\n",
              "  </thead>\n",
              "  <tbody>\n",
              "    <tr>\n",
              "      <th>214583</th>\n",
              "      <td>0.8914</td>\n",
              "      <td>-0.1102</td>\n",
              "      <td>-0.2576</td>\n",
              "      <td>0.030945</td>\n",
              "      <td>5.710983</td>\n",
              "      <td>-0.003708</td>\n",
              "      <td>1.191711</td>\n",
              "      <td>29.083618</td>\n",
              "      <td>1.0</td>\n",
              "    </tr>\n",
              "    <tr>\n",
              "      <th>214584</th>\n",
              "      <td>0.8926</td>\n",
              "      <td>-0.1086</td>\n",
              "      <td>-0.2544</td>\n",
              "      <td>0.033646</td>\n",
              "      <td>5.719376</td>\n",
              "      <td>-0.014145</td>\n",
              "      <td>1.139832</td>\n",
              "      <td>29.122437</td>\n",
              "      <td>1.0</td>\n",
              "    </tr>\n",
              "    <tr>\n",
              "      <th>214585</th>\n",
              "      <td>0.8930</td>\n",
              "      <td>-0.1094</td>\n",
              "      <td>-0.2580</td>\n",
              "      <td>0.033005</td>\n",
              "      <td>5.706406</td>\n",
              "      <td>0.010208</td>\n",
              "      <td>1.141357</td>\n",
              "      <td>29.115234</td>\n",
              "      <td>1.0</td>\n",
              "    </tr>\n",
              "    <tr>\n",
              "      <th>214586</th>\n",
              "      <td>0.8934</td>\n",
              "      <td>-0.1082</td>\n",
              "      <td>-0.2538</td>\n",
              "      <td>0.031815</td>\n",
              "      <td>5.712509</td>\n",
              "      <td>0.012634</td>\n",
              "      <td>1.155090</td>\n",
              "      <td>29.126709</td>\n",
              "      <td>1.0</td>\n",
              "    </tr>\n",
              "    <tr>\n",
              "      <th>214587</th>\n",
              "      <td>0.8930</td>\n",
              "      <td>-0.1096</td>\n",
              "      <td>-0.2570</td>\n",
              "      <td>0.030350</td>\n",
              "      <td>5.727005</td>\n",
              "      <td>0.002060</td>\n",
              "      <td>1.133728</td>\n",
              "      <td>29.100861</td>\n",
              "      <td>1.0</td>\n",
              "    </tr>\n",
              "    <tr>\n",
              "      <th>...</th>\n",
              "      <td>...</td>\n",
              "      <td>...</td>\n",
              "      <td>...</td>\n",
              "      <td>...</td>\n",
              "      <td>...</td>\n",
              "      <td>...</td>\n",
              "      <td>...</td>\n",
              "      <td>...</td>\n",
              "      <td>...</td>\n",
              "    </tr>\n",
              "    <tr>\n",
              "      <th>2021977</th>\n",
              "      <td>0.8760</td>\n",
              "      <td>-0.1346</td>\n",
              "      <td>-0.3020</td>\n",
              "      <td>0.001328</td>\n",
              "      <td>3.075409</td>\n",
              "      <td>-0.004715</td>\n",
              "      <td>-1.161194</td>\n",
              "      <td>31.163483</td>\n",
              "      <td>2.0</td>\n",
              "    </tr>\n",
              "    <tr>\n",
              "      <th>2021978</th>\n",
              "      <td>0.8770</td>\n",
              "      <td>-0.1352</td>\n",
              "      <td>-0.2998</td>\n",
              "      <td>0.003433</td>\n",
              "      <td>3.059769</td>\n",
              "      <td>-0.003937</td>\n",
              "      <td>-1.124573</td>\n",
              "      <td>31.090057</td>\n",
              "      <td>2.0</td>\n",
              "    </tr>\n",
              "    <tr>\n",
              "      <th>2021979</th>\n",
              "      <td>0.8806</td>\n",
              "      <td>-0.1334</td>\n",
              "      <td>-0.2978</td>\n",
              "      <td>0.003616</td>\n",
              "      <td>3.078079</td>\n",
              "      <td>-0.009018</td>\n",
              "      <td>-1.097107</td>\n",
              "      <td>31.098877</td>\n",
              "      <td>2.0</td>\n",
              "    </tr>\n",
              "    <tr>\n",
              "      <th>2021980</th>\n",
              "      <td>0.8778</td>\n",
              "      <td>-0.1314</td>\n",
              "      <td>-0.2964</td>\n",
              "      <td>0.003525</td>\n",
              "      <td>3.058624</td>\n",
              "      <td>0.004944</td>\n",
              "      <td>-1.103210</td>\n",
              "      <td>31.101807</td>\n",
              "      <td>2.0</td>\n",
              "    </tr>\n",
              "    <tr>\n",
              "      <th>2021981</th>\n",
              "      <td>0.8766</td>\n",
              "      <td>-0.1310</td>\n",
              "      <td>-0.2962</td>\n",
              "      <td>0.000320</td>\n",
              "      <td>3.083801</td>\n",
              "      <td>0.003891</td>\n",
              "      <td>-1.087952</td>\n",
              "      <td>31.098877</td>\n",
              "      <td>2.0</td>\n",
              "    </tr>\n",
              "  </tbody>\n",
              "</table>\n",
              "<p>1231300 rows × 9 columns</p>\n",
              "</div>"
            ],
            "text/plain": [
              "           c_ax    c_ay    c_az     c_ecg  ...     c_emg    c_resp     c_temp  label\n",
              "214583   0.8914 -0.1102 -0.2576  0.030945  ... -0.003708  1.191711  29.083618    1.0\n",
              "214584   0.8926 -0.1086 -0.2544  0.033646  ... -0.014145  1.139832  29.122437    1.0\n",
              "214585   0.8930 -0.1094 -0.2580  0.033005  ...  0.010208  1.141357  29.115234    1.0\n",
              "214586   0.8934 -0.1082 -0.2538  0.031815  ...  0.012634  1.155090  29.126709    1.0\n",
              "214587   0.8930 -0.1096 -0.2570  0.030350  ...  0.002060  1.133728  29.100861    1.0\n",
              "...         ...     ...     ...       ...  ...       ...       ...        ...    ...\n",
              "2021977  0.8760 -0.1346 -0.3020  0.001328  ... -0.004715 -1.161194  31.163483    2.0\n",
              "2021978  0.8770 -0.1352 -0.2998  0.003433  ... -0.003937 -1.124573  31.090057    2.0\n",
              "2021979  0.8806 -0.1334 -0.2978  0.003616  ... -0.009018 -1.097107  31.098877    2.0\n",
              "2021980  0.8778 -0.1314 -0.2964  0.003525  ...  0.004944 -1.103210  31.101807    2.0\n",
              "2021981  0.8766 -0.1310 -0.2962  0.000320  ...  0.003891 -1.087952  31.098877    2.0\n",
              "\n",
              "[1231300 rows x 9 columns]"
            ]
          },
          "metadata": {
            "tags": []
          },
          "execution_count": 32
        }
      ]
    },
    {
      "cell_type": "markdown",
      "metadata": {
        "id": "uejAQTM47prb"
      },
      "source": [
        "# Normalizando dados: train test\n",
        "\n",
        "https://pandas.pydata.org/pandas-docs/stable/reference/api/pandas.DataFrame.set_axis.html (referenciar)"
      ]
    },
    {
      "cell_type": "code",
      "metadata": {
        "id": "rDQmLsvf2tEi"
      },
      "source": [
        "import sklearn\n",
        "from sklearn.preprocessing import MinMaxScaler\n",
        "from sklearn.model_selection import train_test_split\n",
        "\n",
        "import tensorflow as tf\n",
        "\n",
        "import keras\n",
        "from keras.utils import to_categorical"
      ],
      "execution_count": 33,
      "outputs": []
    },
    {
      "cell_type": "code",
      "metadata": {
        "id": "Iv2Pkl2JTube",
        "outputId": "c7bd21d2-fa09-4d18-de3d-bb0e0d245b9d",
        "colab": {
          "base_uri": "https://localhost:8080/",
          "height": 51
        }
      },
      "source": [
        "x = p_loc.drop('label',axis=1).values\n",
        "y = to_categorical(p_loc['label'])\n",
        "\n",
        "scaler = MinMaxScaler(feature_range= (0,1))\n",
        "x = scaler.fit_transform(x)\n",
        "\n",
        "x_train, x_test, y_train, y_test = train_test_split(x, y, test_size=0.2)\n",
        "print(x_train.shape)\n",
        "print(y_test.shape)\n",
        "evalSet = [(x_train, y_train), (x_test, y_test)]"
      ],
      "execution_count": 34,
      "outputs": [
        {
          "output_type": "stream",
          "text": [
            "(985040, 8)\n",
            "(246260, 3)\n"
          ],
          "name": "stdout"
        }
      ]
    },
    {
      "cell_type": "code",
      "metadata": {
        "id": "h13QNRPV0viV"
      },
      "source": [
        "from keras.models import Sequential\n",
        "from keras. layers import Activation\n",
        "from keras.layers.core import Dense"
      ],
      "execution_count": 35,
      "outputs": []
    },
    {
      "cell_type": "code",
      "metadata": {
        "id": "wx41hULy0vDI"
      },
      "source": [
        "model = Sequential()\n",
        "model.add(Dense(8, input_shape=(8,), activation='relu'))\n",
        "model.add(Dense(7, activation='relu'))\n",
        "model.add(Dense(3, activation='softmax'))"
      ],
      "execution_count": 36,
      "outputs": []
    },
    {
      "cell_type": "code",
      "metadata": {
        "id": "J7e906j926VI",
        "outputId": "5e730aaa-1f40-4fa8-8826-7523a206ba65",
        "colab": {
          "base_uri": "https://localhost:8080/",
          "height": 255
        }
      },
      "source": [
        "model.summary()"
      ],
      "execution_count": 28,
      "outputs": [
        {
          "output_type": "stream",
          "text": [
            "Model: \"sequential_2\"\n",
            "_________________________________________________________________\n",
            "Layer (type)                 Output Shape              Param #   \n",
            "=================================================================\n",
            "dense_6 (Dense)              (None, 8)                 72        \n",
            "_________________________________________________________________\n",
            "dense_7 (Dense)              (None, 7)                 63        \n",
            "_________________________________________________________________\n",
            "dense_8 (Dense)              (None, 3)                 24        \n",
            "=================================================================\n",
            "Total params: 159\n",
            "Trainable params: 159\n",
            "Non-trainable params: 0\n",
            "_________________________________________________________________\n"
          ],
          "name": "stdout"
        }
      ]
    },
    {
      "cell_type": "code",
      "metadata": {
        "id": "AkJ4fEzC3HIV"
      },
      "source": [
        "from keras.optimizers import Adam\n",
        "from keras.metrics import categorical_crossentropy\n",
        "from keras.utils import to_categorical\n",
        "from keras.optimizers import SGD"
      ],
      "execution_count": 37,
      "outputs": []
    },
    {
      "cell_type": "code",
      "metadata": {
        "id": "0200eTfc010G"
      },
      "source": [
        "model.compile(Adam(lr=.0001),\n",
        "              loss='categorical_crossentropy',\n",
        "              metrics=['accuracy'])"
      ],
      "execution_count": 38,
      "outputs": []
    },
    {
      "cell_type": "code",
      "metadata": {
        "id": "rm_z3Q9D02-y",
        "outputId": "8c2daff9-c348-489d-a74a-5912e4a4c2b2",
        "colab": {
          "base_uri": "https://localhost:8080/",
          "height": 136
        }
      },
      "source": [
        "model.fit(x_train, y_train, validation_split=0.1, batch_size=10, epochs=3, shuffle=True, verbose=2)"
      ],
      "execution_count": 39,
      "outputs": [
        {
          "output_type": "stream",
          "text": [
            "Epoch 1/3\n",
            "88654/88654 - 86s - loss: 0.0799 - accuracy: 0.9744 - val_loss: 0.0137 - val_accuracy: 0.9960\n",
            "Epoch 2/3\n",
            "88654/88654 - 85s - loss: 0.0101 - accuracy: 0.9967 - val_loss: 0.0069 - val_accuracy: 0.9976\n",
            "Epoch 3/3\n",
            "88654/88654 - 83s - loss: 0.0049 - accuracy: 0.9982 - val_loss: 0.0030 - val_accuracy: 0.9990\n"
          ],
          "name": "stdout"
        },
        {
          "output_type": "execute_result",
          "data": {
            "text/plain": [
              "<tensorflow.python.keras.callbacks.History at 0x7fd3a10d4588>"
            ]
          },
          "metadata": {
            "tags": []
          },
          "execution_count": 39
        }
      ]
    },
    {
      "cell_type": "code",
      "metadata": {
        "id": "A-Bgo21D4Qb8",
        "outputId": "6c419998-e943-493a-db45-7bedbff7eb42",
        "colab": {
          "base_uri": "https://localhost:8080/",
          "height": 391
        }
      },
      "source": [
        "from sklearn.metrics import classification_report\n",
        "from sklearn.metrics import accuracy_score\n",
        "from sklearn.metrics import confusion_matrix\n",
        "\n",
        "# realizar as previsões no dataset de teste\n",
        "y_pred = model.predict(x_test)\n",
        "\n",
        "# ver acurácia geral\n",
        "print('[Acurácia] Neural:', accuracy_score(y_test, y_pred))\n",
        "\n",
        "# imprimir o classification report\n",
        "print('\\n[Classification Report] Neural')\n",
        "print( classification_report(y_test, y_pred) )"
      ],
      "execution_count": 41,
      "outputs": [
        {
          "output_type": "error",
          "ename": "ValueError",
          "evalue": "ignored",
          "traceback": [
            "\u001b[0;31m---------------------------------------------------------------------------\u001b[0m",
            "\u001b[0;31mValueError\u001b[0m                                Traceback (most recent call last)",
            "\u001b[0;32m<ipython-input-41-7aee1bfe057a>\u001b[0m in \u001b[0;36m<module>\u001b[0;34m()\u001b[0m\n\u001b[1;32m      7\u001b[0m \u001b[0;34m\u001b[0m\u001b[0m\n\u001b[1;32m      8\u001b[0m \u001b[0;31m# ver acurácia geral\u001b[0m\u001b[0;34m\u001b[0m\u001b[0;34m\u001b[0m\u001b[0;34m\u001b[0m\u001b[0m\n\u001b[0;32m----> 9\u001b[0;31m \u001b[0mprint\u001b[0m\u001b[0;34m(\u001b[0m\u001b[0;34m'[Acurácia] Neural:'\u001b[0m\u001b[0;34m,\u001b[0m \u001b[0maccuracy_score\u001b[0m\u001b[0;34m(\u001b[0m\u001b[0my_test\u001b[0m\u001b[0;34m,\u001b[0m \u001b[0my_pred\u001b[0m\u001b[0;34m)\u001b[0m\u001b[0;34m)\u001b[0m\u001b[0;34m\u001b[0m\u001b[0;34m\u001b[0m\u001b[0m\n\u001b[0m\u001b[1;32m     10\u001b[0m \u001b[0;34m\u001b[0m\u001b[0m\n\u001b[1;32m     11\u001b[0m \u001b[0;31m# imprimir o classification report\u001b[0m\u001b[0;34m\u001b[0m\u001b[0;34m\u001b[0m\u001b[0;34m\u001b[0m\u001b[0m\n",
            "\u001b[0;32m/usr/local/lib/python3.6/dist-packages/sklearn/metrics/_classification.py\u001b[0m in \u001b[0;36maccuracy_score\u001b[0;34m(y_true, y_pred, normalize, sample_weight)\u001b[0m\n\u001b[1;32m    183\u001b[0m \u001b[0;34m\u001b[0m\u001b[0m\n\u001b[1;32m    184\u001b[0m     \u001b[0;31m# Compute accuracy for each possible representation\u001b[0m\u001b[0;34m\u001b[0m\u001b[0;34m\u001b[0m\u001b[0;34m\u001b[0m\u001b[0m\n\u001b[0;32m--> 185\u001b[0;31m     \u001b[0my_type\u001b[0m\u001b[0;34m,\u001b[0m \u001b[0my_true\u001b[0m\u001b[0;34m,\u001b[0m \u001b[0my_pred\u001b[0m \u001b[0;34m=\u001b[0m \u001b[0m_check_targets\u001b[0m\u001b[0;34m(\u001b[0m\u001b[0my_true\u001b[0m\u001b[0;34m,\u001b[0m \u001b[0my_pred\u001b[0m\u001b[0;34m)\u001b[0m\u001b[0;34m\u001b[0m\u001b[0;34m\u001b[0m\u001b[0m\n\u001b[0m\u001b[1;32m    186\u001b[0m     \u001b[0mcheck_consistent_length\u001b[0m\u001b[0;34m(\u001b[0m\u001b[0my_true\u001b[0m\u001b[0;34m,\u001b[0m \u001b[0my_pred\u001b[0m\u001b[0;34m,\u001b[0m \u001b[0msample_weight\u001b[0m\u001b[0;34m)\u001b[0m\u001b[0;34m\u001b[0m\u001b[0;34m\u001b[0m\u001b[0m\n\u001b[1;32m    187\u001b[0m     \u001b[0;32mif\u001b[0m \u001b[0my_type\u001b[0m\u001b[0;34m.\u001b[0m\u001b[0mstartswith\u001b[0m\u001b[0;34m(\u001b[0m\u001b[0;34m'multilabel'\u001b[0m\u001b[0;34m)\u001b[0m\u001b[0;34m:\u001b[0m\u001b[0;34m\u001b[0m\u001b[0;34m\u001b[0m\u001b[0m\n",
            "\u001b[0;32m/usr/local/lib/python3.6/dist-packages/sklearn/metrics/_classification.py\u001b[0m in \u001b[0;36m_check_targets\u001b[0;34m(y_true, y_pred)\u001b[0m\n\u001b[1;32m     88\u001b[0m     \u001b[0;32mif\u001b[0m \u001b[0mlen\u001b[0m\u001b[0;34m(\u001b[0m\u001b[0my_type\u001b[0m\u001b[0;34m)\u001b[0m \u001b[0;34m>\u001b[0m \u001b[0;36m1\u001b[0m\u001b[0;34m:\u001b[0m\u001b[0;34m\u001b[0m\u001b[0;34m\u001b[0m\u001b[0m\n\u001b[1;32m     89\u001b[0m         raise ValueError(\"Classification metrics can't handle a mix of {0} \"\n\u001b[0;32m---> 90\u001b[0;31m                          \"and {1} targets\".format(type_true, type_pred))\n\u001b[0m\u001b[1;32m     91\u001b[0m \u001b[0;34m\u001b[0m\u001b[0m\n\u001b[1;32m     92\u001b[0m     \u001b[0;31m# We can't have more than one value on y_type => The set is no more needed\u001b[0m\u001b[0;34m\u001b[0m\u001b[0;34m\u001b[0m\u001b[0;34m\u001b[0m\u001b[0m\n",
            "\u001b[0;31mValueError\u001b[0m: Classification metrics can't handle a mix of multilabel-indicator and continuous-multioutput targets"
          ]
        }
      ]
    }
  ]
}