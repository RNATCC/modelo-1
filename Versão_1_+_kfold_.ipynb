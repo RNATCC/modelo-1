{
  "nbformat": 4,
  "nbformat_minor": 0,
  "metadata": {
    "colab": {
      "name": "Cópia de Versão_1 + kfold .ipynb",
      "provenance": [],
      "collapsed_sections": []
    },
    "kernelspec": {
      "name": "python3",
      "display_name": "Python 3"
    }
  },
  "cells": [
    {
      "cell_type": "markdown",
      "metadata": {
        "id": "3Ci_XGpW6IV3"
      },
      "source": [
        "créditos:https://colab.research.google.com/drive/1FvBBw2JNXHy9WeJusI2PPr2PMnGVbbGM#scrollTo=GBotcBrgqR30 (lembrar de referenciar)"
      ]
    },
    {
      "cell_type": "code",
      "metadata": {
        "id": "Q72H93n2wzCF"
      },
      "source": [
        "#%matplotlib inline\n",
        "import pickle\n",
        "import numpy as np\n",
        "import pandas as pd\n",
        "from sklearn.model_selection import train_test_split\n",
        "import seaborn as sns\n"
      ],
      "execution_count": 1,
      "outputs": []
    },
    {
      "cell_type": "code",
      "metadata": {
        "id": "E-vBUt_Jwkoi",
        "outputId": "8bcfdf10-e8a6-483f-edbc-d54ba7140a9d",
        "colab": {
          "base_uri": "https://localhost:8080/",
          "height": 34
        }
      },
      "source": [
        "from google.colab import drive\n",
        "drive.mount('/content/drive')"
      ],
      "execution_count": 2,
      "outputs": [
        {
          "output_type": "stream",
          "text": [
            "Mounted at /content/drive\n"
          ],
          "name": "stdout"
        }
      ]
    },
    {
      "cell_type": "code",
      "metadata": {
        "id": "U5-NeIBewqXX"
      },
      "source": [
        "#carregando o dataset\n",
        "data_set = '/content/drive/My Drive/WESAD/'\n",
        "s2_path = data_set + 'S2.pkl'\n",
        "#modificação necessária pois os dados estavam em py2 e o ambiente usa py3\n",
        "with open(s2_path, 'rb') as file:\n",
        "    s2_data = pickle.load(file, encoding='latin1')"
      ],
      "execution_count": 3,
      "outputs": []
    },
    {
      "cell_type": "code",
      "metadata": {
        "id": "_fPRN6YBxQwG"
      },
      "source": [
        "#Separando dados de peito de dados de pulso (apenas dados de peito serão considerados conforme análise dos dados)\n",
        "c_ax=s2_data['signal']['chest']['ACC'][0:,0]\n",
        "c_ay=s2_data['signal']['chest']['ACC'][0:,1]\n",
        "c_az=s2_data['signal']['chest']['ACC'][0:,2]\n",
        "c_ecg=s2_data['signal']['chest']['ECG'][:,0]\n",
        "c_emg=s2_data['signal']['chest']['EMG'][:,0]\n",
        "c_eda=s2_data['signal']['chest']['EDA'][:,0]\n",
        "c_temp=s2_data['signal']['chest']['Temp'][:,0]\n",
        "c_resp=s2_data['signal']['chest']['Resp'][:,0]\n",
        "label=s2_data['label']"
      ],
      "execution_count": 4,
      "outputs": []
    },
    {
      "cell_type": "markdown",
      "metadata": {
        "id": "SpR0_taDOIqx"
      },
      "source": [
        "# Alterar o objeto de dicionário para um array numpy e o array para um dataframe\n",
        "\n",
        "*(referenciar)*\n",
        "**Python | Numpy ndarray.T**\n",
        "https://www.geeksforgeeks.org/python-numpy-ndarray-t/\n",
        "\n",
        "**Gerando e Manipulando Arrays em Python**\n",
        "https://towardsdatascience.com/numpy-array-cookbook-generating-and-manipulating-arrays-in-python-2195c3988b09"
      ]
    },
    {
      "cell_type": "code",
      "metadata": {
        "id": "57rKLABFO6nf",
        "outputId": "7e951e73-200a-4dea-b78b-ad55bebc6331",
        "colab": {
          "base_uri": "https://localhost:8080/",
          "height": 406
        }
      },
      "source": [
        "peito = [c_ax, c_ay, c_az, c_ecg, c_eda, c_emg, c_resp, c_temp, label]\n",
        "p_array = np.array(peito)\n",
        "p_array = p_array.T #(transposição matriz)\n",
        "Colunas = ['c_ax', 'c_ay', 'c_az', 'c_ecg', 'c_eda', 'c_emg', 'c_resp', 'c_temp', 'label']\n",
        "\n",
        "p_df = pd.DataFrame(p_array, columns = Colunas)\n",
        "p_df"
      ],
      "execution_count": 5,
      "outputs": [
        {
          "output_type": "execute_result",
          "data": {
            "text/html": [
              "<div>\n",
              "<style scoped>\n",
              "    .dataframe tbody tr th:only-of-type {\n",
              "        vertical-align: middle;\n",
              "    }\n",
              "\n",
              "    .dataframe tbody tr th {\n",
              "        vertical-align: top;\n",
              "    }\n",
              "\n",
              "    .dataframe thead th {\n",
              "        text-align: right;\n",
              "    }\n",
              "</style>\n",
              "<table border=\"1\" class=\"dataframe\">\n",
              "  <thead>\n",
              "    <tr style=\"text-align: right;\">\n",
              "      <th></th>\n",
              "      <th>c_ax</th>\n",
              "      <th>c_ay</th>\n",
              "      <th>c_az</th>\n",
              "      <th>c_ecg</th>\n",
              "      <th>c_eda</th>\n",
              "      <th>c_emg</th>\n",
              "      <th>c_resp</th>\n",
              "      <th>c_temp</th>\n",
              "      <th>label</th>\n",
              "    </tr>\n",
              "  </thead>\n",
              "  <tbody>\n",
              "    <tr>\n",
              "      <th>0</th>\n",
              "      <td>0.9554</td>\n",
              "      <td>-0.2220</td>\n",
              "      <td>-0.5580</td>\n",
              "      <td>0.021423</td>\n",
              "      <td>5.250549</td>\n",
              "      <td>-0.004440</td>\n",
              "      <td>-1.148987</td>\n",
              "      <td>30.120758</td>\n",
              "      <td>0.0</td>\n",
              "    </tr>\n",
              "    <tr>\n",
              "      <th>1</th>\n",
              "      <td>0.9258</td>\n",
              "      <td>-0.2216</td>\n",
              "      <td>-0.5538</td>\n",
              "      <td>0.020325</td>\n",
              "      <td>5.267334</td>\n",
              "      <td>0.004349</td>\n",
              "      <td>-1.124573</td>\n",
              "      <td>30.129517</td>\n",
              "      <td>0.0</td>\n",
              "    </tr>\n",
              "    <tr>\n",
              "      <th>2</th>\n",
              "      <td>0.9082</td>\n",
              "      <td>-0.2196</td>\n",
              "      <td>-0.5392</td>\n",
              "      <td>0.016525</td>\n",
              "      <td>5.243301</td>\n",
              "      <td>0.005173</td>\n",
              "      <td>-1.152039</td>\n",
              "      <td>30.138214</td>\n",
              "      <td>0.0</td>\n",
              "    </tr>\n",
              "    <tr>\n",
              "      <th>3</th>\n",
              "      <td>0.8974</td>\n",
              "      <td>-0.2102</td>\n",
              "      <td>-0.5122</td>\n",
              "      <td>0.016708</td>\n",
              "      <td>5.249405</td>\n",
              "      <td>0.007187</td>\n",
              "      <td>-1.158142</td>\n",
              "      <td>30.129517</td>\n",
              "      <td>0.0</td>\n",
              "    </tr>\n",
              "    <tr>\n",
              "      <th>4</th>\n",
              "      <td>0.8882</td>\n",
              "      <td>-0.2036</td>\n",
              "      <td>-0.4824</td>\n",
              "      <td>0.011673</td>\n",
              "      <td>5.286407</td>\n",
              "      <td>-0.015152</td>\n",
              "      <td>-1.161194</td>\n",
              "      <td>30.130951</td>\n",
              "      <td>0.0</td>\n",
              "    </tr>\n",
              "    <tr>\n",
              "      <th>...</th>\n",
              "      <td>...</td>\n",
              "      <td>...</td>\n",
              "      <td>...</td>\n",
              "      <td>...</td>\n",
              "      <td>...</td>\n",
              "      <td>...</td>\n",
              "      <td>...</td>\n",
              "      <td>...</td>\n",
              "      <td>...</td>\n",
              "    </tr>\n",
              "    <tr>\n",
              "      <th>4255295</th>\n",
              "      <td>0.8750</td>\n",
              "      <td>-0.1234</td>\n",
              "      <td>-0.2974</td>\n",
              "      <td>-0.013138</td>\n",
              "      <td>0.400162</td>\n",
              "      <td>0.020370</td>\n",
              "      <td>-1.063538</td>\n",
              "      <td>31.457733</td>\n",
              "      <td>0.0</td>\n",
              "    </tr>\n",
              "    <tr>\n",
              "      <th>4255296</th>\n",
              "      <td>0.8750</td>\n",
              "      <td>-0.1262</td>\n",
              "      <td>-0.2988</td>\n",
              "      <td>-0.010345</td>\n",
              "      <td>0.355911</td>\n",
              "      <td>0.019592</td>\n",
              "      <td>-1.106262</td>\n",
              "      <td>31.476898</td>\n",
              "      <td>0.0</td>\n",
              "    </tr>\n",
              "    <tr>\n",
              "      <th>4255297</th>\n",
              "      <td>0.8718</td>\n",
              "      <td>-0.1238</td>\n",
              "      <td>-0.3042</td>\n",
              "      <td>-0.005447</td>\n",
              "      <td>0.360489</td>\n",
              "      <td>-0.017166</td>\n",
              "      <td>-1.103210</td>\n",
              "      <td>31.459229</td>\n",
              "      <td>0.0</td>\n",
              "    </tr>\n",
              "    <tr>\n",
              "      <th>4255298</th>\n",
              "      <td>0.8730</td>\n",
              "      <td>-0.1234</td>\n",
              "      <td>-0.3026</td>\n",
              "      <td>0.000137</td>\n",
              "      <td>0.365829</td>\n",
              "      <td>-0.028976</td>\n",
              "      <td>-1.086426</td>\n",
              "      <td>31.484283</td>\n",
              "      <td>0.0</td>\n",
              "    </tr>\n",
              "    <tr>\n",
              "      <th>4255299</th>\n",
              "      <td>0.8702</td>\n",
              "      <td>-0.1220</td>\n",
              "      <td>-0.3022</td>\n",
              "      <td>0.004074</td>\n",
              "      <td>0.365448</td>\n",
              "      <td>-0.023575</td>\n",
              "      <td>-1.097107</td>\n",
              "      <td>31.456268</td>\n",
              "      <td>0.0</td>\n",
              "    </tr>\n",
              "  </tbody>\n",
              "</table>\n",
              "<p>4255300 rows × 9 columns</p>\n",
              "</div>"
            ],
            "text/plain": [
              "           c_ax    c_ay    c_az     c_ecg  ...     c_emg    c_resp     c_temp  label\n",
              "0        0.9554 -0.2220 -0.5580  0.021423  ... -0.004440 -1.148987  30.120758    0.0\n",
              "1        0.9258 -0.2216 -0.5538  0.020325  ...  0.004349 -1.124573  30.129517    0.0\n",
              "2        0.9082 -0.2196 -0.5392  0.016525  ...  0.005173 -1.152039  30.138214    0.0\n",
              "3        0.8974 -0.2102 -0.5122  0.016708  ...  0.007187 -1.158142  30.129517    0.0\n",
              "4        0.8882 -0.2036 -0.4824  0.011673  ... -0.015152 -1.161194  30.130951    0.0\n",
              "...         ...     ...     ...       ...  ...       ...       ...        ...    ...\n",
              "4255295  0.8750 -0.1234 -0.2974 -0.013138  ...  0.020370 -1.063538  31.457733    0.0\n",
              "4255296  0.8750 -0.1262 -0.2988 -0.010345  ...  0.019592 -1.106262  31.476898    0.0\n",
              "4255297  0.8718 -0.1238 -0.3042 -0.005447  ... -0.017166 -1.103210  31.459229    0.0\n",
              "4255298  0.8730 -0.1234 -0.3026  0.000137  ... -0.028976 -1.086426  31.484283    0.0\n",
              "4255299  0.8702 -0.1220 -0.3022  0.004074  ... -0.023575 -1.097107  31.456268    0.0\n",
              "\n",
              "[4255300 rows x 9 columns]"
            ]
          },
          "metadata": {
            "tags": []
          },
          "execution_count": 5
        }
      ]
    },
    {
      "cell_type": "code",
      "metadata": {
        "id": "JUdl4sz7Qp41",
        "outputId": "0a1da540-61dd-48d5-f8f3-e89d241f931f",
        "colab": {
          "base_uri": "https://localhost:8080/",
          "height": 317
        }
      },
      "source": [
        "p_df.describe().T"
      ],
      "execution_count": 6,
      "outputs": [
        {
          "output_type": "execute_result",
          "data": {
            "text/html": [
              "<div>\n",
              "<style scoped>\n",
              "    .dataframe tbody tr th:only-of-type {\n",
              "        vertical-align: middle;\n",
              "    }\n",
              "\n",
              "    .dataframe tbody tr th {\n",
              "        vertical-align: top;\n",
              "    }\n",
              "\n",
              "    .dataframe thead th {\n",
              "        text-align: right;\n",
              "    }\n",
              "</style>\n",
              "<table border=\"1\" class=\"dataframe\">\n",
              "  <thead>\n",
              "    <tr style=\"text-align: right;\">\n",
              "      <th></th>\n",
              "      <th>count</th>\n",
              "      <th>mean</th>\n",
              "      <th>std</th>\n",
              "      <th>min</th>\n",
              "      <th>25%</th>\n",
              "      <th>50%</th>\n",
              "      <th>75%</th>\n",
              "      <th>max</th>\n",
              "    </tr>\n",
              "  </thead>\n",
              "  <tbody>\n",
              "    <tr>\n",
              "      <th>c_ax</th>\n",
              "      <td>4255300.0</td>\n",
              "      <td>0.753866</td>\n",
              "      <td>0.175116</td>\n",
              "      <td>0.215000</td>\n",
              "      <td>0.621000</td>\n",
              "      <td>0.856800</td>\n",
              "      <td>0.892200</td>\n",
              "      <td>2.029800</td>\n",
              "    </tr>\n",
              "    <tr>\n",
              "      <th>c_ay</th>\n",
              "      <td>4255300.0</td>\n",
              "      <td>-0.133188</td>\n",
              "      <td>0.064173</td>\n",
              "      <td>-0.660000</td>\n",
              "      <td>-0.149800</td>\n",
              "      <td>-0.125600</td>\n",
              "      <td>-0.095800</td>\n",
              "      <td>0.539000</td>\n",
              "    </tr>\n",
              "    <tr>\n",
              "      <th>c_az</th>\n",
              "      <td>4255300.0</td>\n",
              "      <td>-0.422681</td>\n",
              "      <td>0.300236</td>\n",
              "      <td>-1.135400</td>\n",
              "      <td>-0.717200</td>\n",
              "      <td>-0.322200</td>\n",
              "      <td>-0.209800</td>\n",
              "      <td>1.246800</td>\n",
              "    </tr>\n",
              "    <tr>\n",
              "      <th>c_ecg</th>\n",
              "      <td>4255300.0</td>\n",
              "      <td>0.001212</td>\n",
              "      <td>0.154077</td>\n",
              "      <td>-1.499542</td>\n",
              "      <td>-0.067978</td>\n",
              "      <td>0.008240</td>\n",
              "      <td>0.044357</td>\n",
              "      <td>1.499313</td>\n",
              "    </tr>\n",
              "    <tr>\n",
              "      <th>c_eda</th>\n",
              "      <td>4255300.0</td>\n",
              "      <td>1.528387</td>\n",
              "      <td>1.238425</td>\n",
              "      <td>0.263214</td>\n",
              "      <td>0.799561</td>\n",
              "      <td>1.163101</td>\n",
              "      <td>1.546478</td>\n",
              "      <td>7.576752</td>\n",
              "    </tr>\n",
              "    <tr>\n",
              "      <th>c_emg</th>\n",
              "      <td>4255300.0</td>\n",
              "      <td>-0.002413</td>\n",
              "      <td>0.011652</td>\n",
              "      <td>-0.414963</td>\n",
              "      <td>-0.008331</td>\n",
              "      <td>-0.001602</td>\n",
              "      <td>0.003983</td>\n",
              "      <td>0.300980</td>\n",
              "    </tr>\n",
              "    <tr>\n",
              "      <th>c_resp</th>\n",
              "      <td>4255300.0</td>\n",
              "      <td>0.054906</td>\n",
              "      <td>2.917749</td>\n",
              "      <td>-27.903748</td>\n",
              "      <td>-1.481628</td>\n",
              "      <td>-0.157166</td>\n",
              "      <td>1.618958</td>\n",
              "      <td>27.378845</td>\n",
              "    </tr>\n",
              "    <tr>\n",
              "      <th>c_temp</th>\n",
              "      <td>4255300.0</td>\n",
              "      <td>30.876676</td>\n",
              "      <td>1.281106</td>\n",
              "      <td>28.045258</td>\n",
              "      <td>30.574951</td>\n",
              "      <td>31.289917</td>\n",
              "      <td>31.815125</td>\n",
              "      <td>34.370392</td>\n",
              "    </tr>\n",
              "    <tr>\n",
              "      <th>label</th>\n",
              "      <td>4255300.0</td>\n",
              "      <td>1.212370</td>\n",
              "      <td>1.606596</td>\n",
              "      <td>0.000000</td>\n",
              "      <td>0.000000</td>\n",
              "      <td>0.000000</td>\n",
              "      <td>2.000000</td>\n",
              "      <td>7.000000</td>\n",
              "    </tr>\n",
              "  </tbody>\n",
              "</table>\n",
              "</div>"
            ],
            "text/plain": [
              "            count       mean       std  ...        50%        75%        max\n",
              "c_ax    4255300.0   0.753866  0.175116  ...   0.856800   0.892200   2.029800\n",
              "c_ay    4255300.0  -0.133188  0.064173  ...  -0.125600  -0.095800   0.539000\n",
              "c_az    4255300.0  -0.422681  0.300236  ...  -0.322200  -0.209800   1.246800\n",
              "c_ecg   4255300.0   0.001212  0.154077  ...   0.008240   0.044357   1.499313\n",
              "c_eda   4255300.0   1.528387  1.238425  ...   1.163101   1.546478   7.576752\n",
              "c_emg   4255300.0  -0.002413  0.011652  ...  -0.001602   0.003983   0.300980\n",
              "c_resp  4255300.0   0.054906  2.917749  ...  -0.157166   1.618958  27.378845\n",
              "c_temp  4255300.0  30.876676  1.281106  ...  31.289917  31.815125  34.370392\n",
              "label   4255300.0   1.212370  1.606596  ...   0.000000   2.000000   7.000000\n",
              "\n",
              "[9 rows x 8 columns]"
            ]
          },
          "metadata": {
            "tags": []
          },
          "execution_count": 6
        }
      ]
    },
    {
      "cell_type": "markdown",
      "metadata": {
        "id": "hoBSO92XQ8mq"
      },
      "source": [
        "Identificando os rótulos, usando apenas:\n",
        "neutro: 0\n",
        "stress: 1\n",
        "diversão: 2\n",
        "\n",
        "Os demais serão desconsiderados nesse estudo"
      ]
    },
    {
      "cell_type": "code",
      "metadata": {
        "id": "vkW_AcVVSGm_",
        "outputId": "dbea9b88-90b9-49c9-93be-15b3f2327c24",
        "colab": {
          "base_uri": "https://localhost:8080/",
          "height": 406
        }
      },
      "source": [
        "neutro = p_df.loc[p_df['label'] == 1]\n",
        "stress = p_df.loc[p_df['label'] == 2]\n",
        "\n",
        "\n",
        "p_loc = pd.concat([neutro, stress])\n",
        "p_loc"
      ],
      "execution_count": 7,
      "outputs": [
        {
          "output_type": "execute_result",
          "data": {
            "text/html": [
              "<div>\n",
              "<style scoped>\n",
              "    .dataframe tbody tr th:only-of-type {\n",
              "        vertical-align: middle;\n",
              "    }\n",
              "\n",
              "    .dataframe tbody tr th {\n",
              "        vertical-align: top;\n",
              "    }\n",
              "\n",
              "    .dataframe thead th {\n",
              "        text-align: right;\n",
              "    }\n",
              "</style>\n",
              "<table border=\"1\" class=\"dataframe\">\n",
              "  <thead>\n",
              "    <tr style=\"text-align: right;\">\n",
              "      <th></th>\n",
              "      <th>c_ax</th>\n",
              "      <th>c_ay</th>\n",
              "      <th>c_az</th>\n",
              "      <th>c_ecg</th>\n",
              "      <th>c_eda</th>\n",
              "      <th>c_emg</th>\n",
              "      <th>c_resp</th>\n",
              "      <th>c_temp</th>\n",
              "      <th>label</th>\n",
              "    </tr>\n",
              "  </thead>\n",
              "  <tbody>\n",
              "    <tr>\n",
              "      <th>214583</th>\n",
              "      <td>0.8914</td>\n",
              "      <td>-0.1102</td>\n",
              "      <td>-0.2576</td>\n",
              "      <td>0.030945</td>\n",
              "      <td>5.710983</td>\n",
              "      <td>-0.003708</td>\n",
              "      <td>1.191711</td>\n",
              "      <td>29.083618</td>\n",
              "      <td>1.0</td>\n",
              "    </tr>\n",
              "    <tr>\n",
              "      <th>214584</th>\n",
              "      <td>0.8926</td>\n",
              "      <td>-0.1086</td>\n",
              "      <td>-0.2544</td>\n",
              "      <td>0.033646</td>\n",
              "      <td>5.719376</td>\n",
              "      <td>-0.014145</td>\n",
              "      <td>1.139832</td>\n",
              "      <td>29.122437</td>\n",
              "      <td>1.0</td>\n",
              "    </tr>\n",
              "    <tr>\n",
              "      <th>214585</th>\n",
              "      <td>0.8930</td>\n",
              "      <td>-0.1094</td>\n",
              "      <td>-0.2580</td>\n",
              "      <td>0.033005</td>\n",
              "      <td>5.706406</td>\n",
              "      <td>0.010208</td>\n",
              "      <td>1.141357</td>\n",
              "      <td>29.115234</td>\n",
              "      <td>1.0</td>\n",
              "    </tr>\n",
              "    <tr>\n",
              "      <th>214586</th>\n",
              "      <td>0.8934</td>\n",
              "      <td>-0.1082</td>\n",
              "      <td>-0.2538</td>\n",
              "      <td>0.031815</td>\n",
              "      <td>5.712509</td>\n",
              "      <td>0.012634</td>\n",
              "      <td>1.155090</td>\n",
              "      <td>29.126709</td>\n",
              "      <td>1.0</td>\n",
              "    </tr>\n",
              "    <tr>\n",
              "      <th>214587</th>\n",
              "      <td>0.8930</td>\n",
              "      <td>-0.1096</td>\n",
              "      <td>-0.2570</td>\n",
              "      <td>0.030350</td>\n",
              "      <td>5.727005</td>\n",
              "      <td>0.002060</td>\n",
              "      <td>1.133728</td>\n",
              "      <td>29.100861</td>\n",
              "      <td>1.0</td>\n",
              "    </tr>\n",
              "    <tr>\n",
              "      <th>...</th>\n",
              "      <td>...</td>\n",
              "      <td>...</td>\n",
              "      <td>...</td>\n",
              "      <td>...</td>\n",
              "      <td>...</td>\n",
              "      <td>...</td>\n",
              "      <td>...</td>\n",
              "      <td>...</td>\n",
              "      <td>...</td>\n",
              "    </tr>\n",
              "    <tr>\n",
              "      <th>2021977</th>\n",
              "      <td>0.8760</td>\n",
              "      <td>-0.1346</td>\n",
              "      <td>-0.3020</td>\n",
              "      <td>0.001328</td>\n",
              "      <td>3.075409</td>\n",
              "      <td>-0.004715</td>\n",
              "      <td>-1.161194</td>\n",
              "      <td>31.163483</td>\n",
              "      <td>2.0</td>\n",
              "    </tr>\n",
              "    <tr>\n",
              "      <th>2021978</th>\n",
              "      <td>0.8770</td>\n",
              "      <td>-0.1352</td>\n",
              "      <td>-0.2998</td>\n",
              "      <td>0.003433</td>\n",
              "      <td>3.059769</td>\n",
              "      <td>-0.003937</td>\n",
              "      <td>-1.124573</td>\n",
              "      <td>31.090057</td>\n",
              "      <td>2.0</td>\n",
              "    </tr>\n",
              "    <tr>\n",
              "      <th>2021979</th>\n",
              "      <td>0.8806</td>\n",
              "      <td>-0.1334</td>\n",
              "      <td>-0.2978</td>\n",
              "      <td>0.003616</td>\n",
              "      <td>3.078079</td>\n",
              "      <td>-0.009018</td>\n",
              "      <td>-1.097107</td>\n",
              "      <td>31.098877</td>\n",
              "      <td>2.0</td>\n",
              "    </tr>\n",
              "    <tr>\n",
              "      <th>2021980</th>\n",
              "      <td>0.8778</td>\n",
              "      <td>-0.1314</td>\n",
              "      <td>-0.2964</td>\n",
              "      <td>0.003525</td>\n",
              "      <td>3.058624</td>\n",
              "      <td>0.004944</td>\n",
              "      <td>-1.103210</td>\n",
              "      <td>31.101807</td>\n",
              "      <td>2.0</td>\n",
              "    </tr>\n",
              "    <tr>\n",
              "      <th>2021981</th>\n",
              "      <td>0.8766</td>\n",
              "      <td>-0.1310</td>\n",
              "      <td>-0.2962</td>\n",
              "      <td>0.000320</td>\n",
              "      <td>3.083801</td>\n",
              "      <td>0.003891</td>\n",
              "      <td>-1.087952</td>\n",
              "      <td>31.098877</td>\n",
              "      <td>2.0</td>\n",
              "    </tr>\n",
              "  </tbody>\n",
              "</table>\n",
              "<p>1231300 rows × 9 columns</p>\n",
              "</div>"
            ],
            "text/plain": [
              "           c_ax    c_ay    c_az     c_ecg  ...     c_emg    c_resp     c_temp  label\n",
              "214583   0.8914 -0.1102 -0.2576  0.030945  ... -0.003708  1.191711  29.083618    1.0\n",
              "214584   0.8926 -0.1086 -0.2544  0.033646  ... -0.014145  1.139832  29.122437    1.0\n",
              "214585   0.8930 -0.1094 -0.2580  0.033005  ...  0.010208  1.141357  29.115234    1.0\n",
              "214586   0.8934 -0.1082 -0.2538  0.031815  ...  0.012634  1.155090  29.126709    1.0\n",
              "214587   0.8930 -0.1096 -0.2570  0.030350  ...  0.002060  1.133728  29.100861    1.0\n",
              "...         ...     ...     ...       ...  ...       ...       ...        ...    ...\n",
              "2021977  0.8760 -0.1346 -0.3020  0.001328  ... -0.004715 -1.161194  31.163483    2.0\n",
              "2021978  0.8770 -0.1352 -0.2998  0.003433  ... -0.003937 -1.124573  31.090057    2.0\n",
              "2021979  0.8806 -0.1334 -0.2978  0.003616  ... -0.009018 -1.097107  31.098877    2.0\n",
              "2021980  0.8778 -0.1314 -0.2964  0.003525  ...  0.004944 -1.103210  31.101807    2.0\n",
              "2021981  0.8766 -0.1310 -0.2962  0.000320  ...  0.003891 -1.087952  31.098877    2.0\n",
              "\n",
              "[1231300 rows x 9 columns]"
            ]
          },
          "metadata": {
            "tags": []
          },
          "execution_count": 7
        }
      ]
    },
    {
      "cell_type": "code",
      "metadata": {
        "id": "yyvcVV9y61Ck"
      },
      "source": [
        "for col in p_df.columns:\n",
        "  print(f\" col {col} , Qtd de valores únicos: {len(p_loc[col].unique())} , {list(p_loc[col].unique())} \\n \")"
      ],
      "execution_count": null,
      "outputs": []
    },
    {
      "cell_type": "markdown",
      "metadata": {
        "id": "uejAQTM47prb"
      },
      "source": [
        "# Normalizando dados: train test\n",
        "\n",
        "https://pandas.pydata.org/pandas-docs/stable/reference/api/pandas.DataFrame.set_axis.html (referenciar)"
      ]
    },
    {
      "cell_type": "code",
      "metadata": {
        "id": "rDQmLsvf2tEi"
      },
      "source": [
        "import sklearn\n",
        "from sklearn.preprocessing import MinMaxScaler\n",
        "from sklearn.model_selection import train_test_split\n",
        "\n",
        "import tensorflow as tf\n",
        "\n",
        "import keras\n",
        "from keras.utils import to_categorical"
      ],
      "execution_count": 9,
      "outputs": []
    },
    {
      "cell_type": "code",
      "metadata": {
        "id": "HNd71_7OOdfd",
        "outputId": "cd0e8c80-6275-4a1e-ffa2-620513f7b260",
        "colab": {
          "base_uri": "https://localhost:8080/",
          "height": 34
        }
      },
      "source": [
        "print(tf.__version__)"
      ],
      "execution_count": 10,
      "outputs": [
        {
          "output_type": "stream",
          "text": [
            "2.3.0\n"
          ],
          "name": "stdout"
        }
      ]
    },
    {
      "cell_type": "code",
      "metadata": {
        "id": "uukR8myIOqK9",
        "outputId": "e5ea8236-e94a-4b6b-916a-d02bd52ec0b8",
        "colab": {
          "base_uri": "https://localhost:8080/",
          "height": 34
        }
      },
      "source": [
        "print(keras.__version__)"
      ],
      "execution_count": 11,
      "outputs": [
        {
          "output_type": "stream",
          "text": [
            "2.4.3\n"
          ],
          "name": "stdout"
        }
      ]
    },
    {
      "cell_type": "code",
      "metadata": {
        "id": "Iv2Pkl2JTube"
      },
      "source": [
        "from sklearn.preprocessing import StandardScaler\n",
        "from sklearn.preprocessing import LabelEncoder\n",
        "from sklearn.model_selection import train_test_split\n",
        "from sklearn.model_selection import StratifiedKFold\n",
        " \n",
        "# separar as variáveis independentes da variável alvo\n",
        "x = p_loc.drop(['label'], axis=1)\n",
        "y = p_loc['label']\n",
        " \n",
        "# padronizar as colunas numéricas\n",
        "X = StandardScaler().fit_transform(x)\n",
        " \n",
        "# label encoder na variável alvo\n",
        "Y = LabelEncoder().fit_transform(y)\n",
        " \n",
        "# dividir o dataset entre treino e teste\n",
        "x_train, x_test, y_train, y_test = train_test_split(X, Y, test_size=0.2)"
      ],
      "execution_count": 12,
      "outputs": []
    },
    {
      "cell_type": "code",
      "metadata": {
        "id": "h13QNRPV0viV"
      },
      "source": [
        "import tensorflow as tf\n",
        "\n",
        "from tensorflow import keras\n",
        "from tensorflow.keras import layers\n",
        "from keras.models import Sequential\n",
        "from keras. layers import Activation\n",
        "from keras.layers.core import Dense\n",
        "from keras.layers import Dropout\n",
        "from keras.wrappers.scikit_learn import KerasClassifier\n",
        "from keras.optimizers import Adam"
      ],
      "execution_count": 13,
      "outputs": []
    },
    {
      "cell_type": "code",
      "metadata": {
        "id": "u8TSHhlgo5gl"
      },
      "source": [
        "from keras.optimizers import SGD\n",
        "def create_model():\n",
        "  model = Sequential()\n",
        "  model.add(Dense(8, input_shape=(8,), activation='softmax'))\n",
        "  model.add(Dense(16,activation='softmax'))\n",
        "  model.add(Dense(1, activation='relu'))\n",
        "  sgd = SGD(lr=0.1, momentum=0.9)\n",
        "  model.compile(Adam(lr=.0001), loss='mse',  metrics=['mae', 'mse', 'accuracy'])\n",
        "  return model"
      ],
      "execution_count": 14,
      "outputs": []
    },
    {
      "cell_type": "code",
      "metadata": {
        "id": "AkJ4fEzC3HIV",
        "outputId": "fbcd203b-3fbb-47f9-defe-c420a9000ec0",
        "colab": {
          "base_uri": "https://localhost:8080/",
          "height": 1000
        }
      },
      "source": [
        "from sklearn.model_selection import KFold\n",
        "\n",
        "n_split=3\n",
        "\n",
        "for train_index,test_index in KFold(n_split).split(X):\n",
        "  x_train,x_test=X[train_index],X[test_index]\n",
        "  y_train,y_test=Y[train_index],Y[test_index]\n",
        "  \n",
        "  model=create_model()\n",
        "  model.fit(x_train, y_train,epochs=5)\n",
        "  \n",
        "  print('\\n\\n\\n\\nModel evaluation ',model.evaluate(x_test,y_test))"
      ],
      "execution_count": 18,
      "outputs": [
        {
          "output_type": "stream",
          "text": [
            "25653/25653 [==============================] - 26s 1ms/step - loss: 0.5000 - mae: 0.5000 - mse: 0.5000 - accuracy: 0.5000\n",
            "Epoch 4/5\n",
            "25653/25653 [==============================] - 26s 1ms/step - loss: 0.5000 - mae: 0.5000 - mse: 0.5000 - accuracy: 0.5000\n",
            "Epoch 5/5\n",
            "25653/25653 [==============================] - 26s 1ms/step - loss: 0.5000 - mae: 0.5000 - mse: 0.5000 - accuracy: 0.5000\n",
            "12827/12827 [==============================] - 12s 931us/step - loss: 0.0489 - mae: 0.0489 - mse: 0.0489 - accuracy: 0.9511\n",
            "\n",
            "\n",
            "\n",
            "\n",
            "Model evaluation  [0.04889226704835892, 0.04889226704835892, 0.04889226704835892, 0.9511077404022217]\n",
            "Epoch 1/5\n",
            "25653/25653 [==============================] - 28s 1ms/step - loss: 0.0244 - mae: 0.0244 - mse: 0.0244 - accuracy: 0.9756\n",
            "Epoch 2/5\n",
            "25653/25653 [==============================] - 27s 1ms/step - loss: 0.0244 - mae: 0.0244 - mse: 0.0244 - accuracy: 0.9756\n",
            "Epoch 3/5\n",
            "25653/25653 [==============================] - 27s 1ms/step - loss: 0.0244 - mae: 0.0244 - mse: 0.0244 - accuracy: 0.9756\n",
            "Epoch 4/5\n",
            "25653/25653 [==============================] - 28s 1ms/step - loss: 0.0244 - mae: 0.0244 - mse: 0.0244 - accuracy: 0.9756\n",
            "Epoch 5/5\n",
            "25653/25653 [==============================] - 30s 1ms/step - loss: 0.0244 - mae: 0.0244 - mse: 0.0244 - accuracy: 0.9756\n",
            "12827/12827 [==============================] - 15s 1ms/step - loss: 1.0000 - mae: 1.0000 - mse: 1.0000 - accuracy: 0.0000e+00\n",
            "\n",
            "\n",
            "\n",
            "\n",
            "Model evaluation  [1.0, 1.0, 1.0, 0.0]\n",
            "Epoch 1/5\n",
            "25653/25653 [==============================] - 27s 1ms/step - loss: 0.5244 - mae: 0.5244 - mse: 0.5244 - accuracy: 0.4756\n",
            "Epoch 2/5\n",
            "25653/25653 [==============================] - 29s 1ms/step - loss: 0.5244 - mae: 0.5244 - mse: 0.5244 - accuracy: 0.4756\n",
            "Epoch 3/5\n",
            "25653/25653 [==============================] - 27s 1ms/step - loss: 0.5244 - mae: 0.5244 - mse: 0.5244 - accuracy: 0.4756\n",
            "Epoch 4/5\n",
            "25653/25653 [==============================] - 26s 1ms/step - loss: 0.5244 - mae: 0.5244 - mse: 0.5244 - accuracy: 0.4756\n",
            "Epoch 5/5\n",
            "25653/25653 [==============================] - 26s 1ms/step - loss: 0.5244 - mae: 0.5244 - mse: 0.5244 - accuracy: 0.4756\n",
            "12827/12827 [==============================] - 11s 884us/step - loss: 0.0000e+00 - mae: 0.0000e+00 - mse: 0.0000e+00 - accuracy: 1.0000\n",
            "\n",
            "\n",
            "\n",
            "\n",
            "Model evaluation  [0.0, 0.0, 0.0, 1.0]\n",
            "Epoch 1/5\n",
            "25653/25653 [==============================] - 27s 1ms/step - loss: 0.5000 - mae: 0.5000 - mse: 0.5000 - accuracy: 0.5000\n",
            "Epoch 2/5\n",
            "25653/25653 [==============================] - 25s 991us/step - loss: 0.5000 - mae: 0.5000 - mse: 0.5000 - accuracy: 0.5000\n",
            "Epoch 3/5\n",
            "25653/25653 [==============================] - 26s 1ms/step - loss: 0.5000 - mae: 0.5000 - mse: 0.5000 - accuracy: 0.5000\n",
            "Epoch 4/5\n",
            "25653/25653 [==============================] - 29s 1ms/step - loss: 0.5000 - mae: 0.5000 - mse: 0.5000 - accuracy: 0.5000\n",
            "Epoch 5/5\n",
            "25653/25653 [==============================] - 26s 1ms/step - loss: 0.5000 - mae: 0.5000 - mse: 0.5000 - accuracy: 0.5000\n",
            "12827/12827 [==============================] - 11s 896us/step - loss: 0.0489 - mae: 0.0489 - mse: 0.0489 - accuracy: 0.9511\n",
            "\n",
            "\n",
            "\n",
            "\n",
            "Model evaluation  [0.04889226704835892, 0.04889226704835892, 0.04889226704835892, 0.9511077404022217]\n",
            "Epoch 1/5\n",
            "25653/25653 [==============================] - 26s 1ms/step - loss: 0.0085 - mae: 0.0185 - mse: 0.0085 - accuracy: 0.9886\n",
            "Epoch 2/5\n",
            "25653/25653 [==============================] - 26s 1ms/step - loss: 0.0030 - mae: 0.0065 - mse: 0.0030 - accuracy: 0.9968\n",
            "Epoch 3/5\n",
            "25653/25653 [==============================] - 27s 1ms/step - loss: 0.0022 - mae: 0.0048 - mse: 0.0022 - accuracy: 0.9976\n",
            "Epoch 4/5\n",
            "25653/25653 [==============================] - 26s 1ms/step - loss: 0.0018 - mae: 0.0040 - mse: 0.0018 - accuracy: 0.9980\n",
            "Epoch 5/5\n",
            "25653/25653 [==============================] - 26s 1ms/step - loss: 0.0016 - mae: 0.0035 - mse: 0.0016 - accuracy: 0.9983\n",
            "12827/12827 [==============================] - 11s 894us/step - loss: 0.6176 - mae: 0.7199 - mse: 0.6176 - accuracy: 0.2583\n",
            "\n",
            "\n",
            "\n",
            "\n",
            "Model evaluation  [0.6176488399505615, 0.7199130058288574, 0.6176488399505615, 0.25831499695777893]\n"
          ],
          "name": "stdout"
        }
      ]
    },
    {
      "cell_type": "code",
      "metadata": {
        "id": "hWxagvYGDKEL",
        "outputId": "3a5cefa5-cff3-493a-d41c-f38af808e20b",
        "colab": {
          "base_uri": "https://localhost:8080/",
          "height": 34
        }
      },
      "source": [
        "previsoes = model.predict(x_test)\n",
        "previsoes = (previsoes >0.5)\n",
        "from sklearn.metrics import confusion_matrix, accuracy_score\n",
        "precisao = accuracy_score(y_test, previsoes)\n",
        "matriz = confusion_matrix(y_test, previsoes)\n",
        "resultado = model.evaluate(x_test, y_test)"
      ],
      "execution_count": 19,
      "outputs": [
        {
          "output_type": "stream",
          "text": [
            "12827/12827 [==============================] - 12s 914us/step - loss: 0.6176 - mae: 0.7199 - mse: 0.6176 - accuracy: 0.2583\n"
          ],
          "name": "stdout"
        }
      ]
    },
    {
      "cell_type": "code",
      "metadata": {
        "id": "d_efX6RHGVTU",
        "outputId": "41bcbaaa-f939-4c61-a59b-5e20c16388ab",
        "colab": {
          "base_uri": "https://localhost:8080/",
          "height": 52
        }
      },
      "source": [
        "matriz"
      ],
      "execution_count": 20,
      "outputs": [
        {
          "output_type": "execute_result",
          "data": {
            "text/plain": [
              "array([[     0,      0],\n",
              "       [304412, 106021]])"
            ]
          },
          "metadata": {
            "tags": []
          },
          "execution_count": 20
        }
      ]
    }
  ]
}