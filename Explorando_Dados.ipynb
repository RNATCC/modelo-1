{
  "nbformat": 4,
  "nbformat_minor": 0,
  "metadata": {
    "colab": {
      "name": "O dataSet.ipynb",
      "provenance": []
    },
    "kernelspec": {
      "name": "python3",
      "display_name": "Python 3"
    }
  },
  "cells": [
    {
      "cell_type": "markdown",
      "metadata": {
        "id": "I3h4fGPguNNm",
        "colab_type": "text"
      },
      "source": [
        "# Explorando o DataSet WESAD (Wearable Stress and Affect Detection)\n",
        "\n",
        "Este notebook contém análises exploratórias dos dados disponibilizados pelo DataSet. Para exploração será utilizado o sujeito S2, abaixo temos as informações pessoais do sujeito:\n",
        "\n",
        "\n",
        "*   Idade: 27\n",
        "*   Altura: 1,75\n",
        "*   Peso: 80kg\n",
        "*   Sexo:  Masculino\n",
        "*   Mão Dominante: Direita\n",
        "*   Item da lista\n",
        "\n",
        "\n"
      ]
    },
    {
      "cell_type": "code",
      "metadata": {
        "id": "TRpy96Ubt8_m",
        "colab_type": "code",
        "colab": {
          "base_uri": "https://localhost:8080/",
          "height": 51
        },
        "outputId": "cb657d17-2325-4a35-c44e-c935c3c89a18"
      },
      "source": [
        "import sys\n",
        "print(sys.version)"
      ],
      "execution_count": null,
      "outputs": [
        {
          "output_type": "stream",
          "text": [
            "3.6.9 (default, Jul 17 2020, 12:50:27) \n",
            "[GCC 8.4.0]\n"
          ],
          "name": "stdout"
        }
      ]
    },
    {
      "cell_type": "code",
      "metadata": {
        "id": "m38y3pGH3TUU",
        "colab_type": "code",
        "colab": {
          "base_uri": "https://localhost:8080/",
          "height": 34
        },
        "outputId": "82bf6b31-4262-4d21-c4ac-e6b88ddb529a"
      },
      "source": [
        "import pickle\n",
        "import numpy as np\n",
        "import matplotlib.pyplot as plt\n",
        "import pandas as pd\n",
        "pickle.HIGHEST_PROTOCOL"
      ],
      "execution_count": null,
      "outputs": [
        {
          "output_type": "execute_result",
          "data": {
            "text/plain": [
              "4"
            ]
          },
          "metadata": {
            "tags": []
          },
          "execution_count": 2
        }
      ]
    },
    {
      "cell_type": "code",
      "metadata": {
        "id": "EChmISuK3Yb2",
        "colab_type": "code",
        "colab": {
          "base_uri": "https://localhost:8080/",
          "height": 34
        },
        "outputId": "cbfcecb2-b390-4a3d-8fcc-6cbe119c85c1"
      },
      "source": [
        "from google.colab import drive\n",
        "drive.mount('/content/drive')"
      ],
      "execution_count": null,
      "outputs": [
        {
          "output_type": "stream",
          "text": [
            "Mounted at /content/drive\n"
          ],
          "name": "stdout"
        }
      ]
    },
    {
      "cell_type": "code",
      "metadata": {
        "id": "lqiVU4bP39nH",
        "colab_type": "code",
        "colab": {}
      },
      "source": [
        "#carregando o dataset\n",
        "data_set = '/content/drive/My Drive/Colab Notebooks/dataset wesad/'\n",
        "s2_path = data_set + 'S2.pkl'\n",
        "#modificação necessária pois os dados estavam em py2 e o ambiente usa py3\n",
        "with open(s2_path, 'rb') as file:\n",
        "    s2_data = pickle.load(file, encoding='latin1')"
      ],
      "execution_count": null,
      "outputs": []
    },
    {
      "cell_type": "markdown",
      "metadata": {
        "id": "Ybd2X7G65eNK",
        "colab_type": "text"
      },
      "source": [
        "# Identificando os dados\n",
        "\n"
      ]
    },
    {
      "cell_type": "code",
      "metadata": {
        "id": "_03TCfUWBm1L",
        "colab_type": "code",
        "colab": {
          "base_uri": "https://localhost:8080/",
          "height": 1000
        },
        "outputId": "94b92b07-faee-4df6-b0b6-f1411fe4ce86"
      },
      "source": [
        "count=len(s2_data['label'])\n",
        "print('Sujeito', s2_data['subject'])\n",
        "print('labels array', (s2_data['label']))\n",
        "print('sinal', s2_data['signal'])\n",
        "print('len(labels array)=',count)"
      ],
      "execution_count": null,
      "outputs": [
        {
          "output_type": "stream",
          "text": [
            "Sujeito S2\n",
            "labels array [0 0 0 ... 0 0 0]\n",
            "sinal {'chest': {'ACC': array([[ 0.95539999, -0.222     , -0.55799997],\n",
            "       [ 0.92579997, -0.2216    , -0.55379999],\n",
            "       [ 0.90820003, -0.21960002, -0.53920001],\n",
            "       ...,\n",
            "       [ 0.87179995, -0.12379998, -0.30419999],\n",
            "       [ 0.87300003, -0.12339997, -0.30260003],\n",
            "       [ 0.87020004, -0.12199998, -0.30220002]]), 'ECG': array([[ 0.02142334],\n",
            "       [ 0.02032471],\n",
            "       [ 0.01652527],\n",
            "       ...,\n",
            "       [-0.00544739],\n",
            "       [ 0.00013733],\n",
            "       [ 0.0040741 ]]), 'EMG': array([[-0.00444031],\n",
            "       [ 0.00434875],\n",
            "       [ 0.00517273],\n",
            "       ...,\n",
            "       [-0.01716614],\n",
            "       [-0.02897644],\n",
            "       [-0.02357483]]), 'EDA': array([[5.25054932],\n",
            "       [5.26733398],\n",
            "       [5.24330139],\n",
            "       ...,\n",
            "       [0.36048889],\n",
            "       [0.36582947],\n",
            "       [0.365448  ]]), 'Temp': array([[30.120758],\n",
            "       [30.129517],\n",
            "       [30.138214],\n",
            "       ...,\n",
            "       [31.459229],\n",
            "       [31.484283],\n",
            "       [31.456268]], dtype=float32), 'Resp': array([[-1.14898682],\n",
            "       [-1.12457275],\n",
            "       [-1.15203857],\n",
            "       ...,\n",
            "       [-1.10321045],\n",
            "       [-1.08642578],\n",
            "       [-1.09710693]])}, 'wrist': {'ACC': array([[ 62., -21., 107.],\n",
            "       [ 66.,  13.,  53.],\n",
            "       [ 41.,   9.,  15.],\n",
            "       ...,\n",
            "       [ 41.,  25.,  11.],\n",
            "       [ 39.,  27.,  22.],\n",
            "       [ 56.,  26.,  10.]]), 'BVP': array([[-59.37],\n",
            "       [-53.42],\n",
            "       [-44.4 ],\n",
            "       ...,\n",
            "       [ 18.26],\n",
            "       [ 18.68],\n",
            "       [ 19.71]]), 'EDA': array([[1.138257],\n",
            "       [1.125444],\n",
            "       [1.011405],\n",
            "       ...,\n",
            "       [0.059208],\n",
            "       [0.073303],\n",
            "       [0.045113]]), 'TEMP': array([[35.41],\n",
            "       [35.41],\n",
            "       [35.41],\n",
            "       ...,\n",
            "       [34.23],\n",
            "       [34.23],\n",
            "       [34.23]])}}\n",
            "len(labels array)= 4255300\n"
          ],
          "name": "stdout"
        }
      ]
    },
    {
      "cell_type": "markdown",
      "metadata": {
        "id": "jlTNpmfa50ol",
        "colab_type": "text"
      },
      "source": [
        "A seção \"sinal\" identifica os pontos de dados registrados dos dois dispositivos usados ​​no estudo e a \"label\" identifica qual cenário o sujeito estava experimentando quando os dados foram registrados."
      ]
    },
    {
      "cell_type": "code",
      "metadata": {
        "id": "vCt6t55LDwb7",
        "colab_type": "code",
        "colab": {}
      },
      "source": [
        "c_ax=s2_data['signal']['chest']['ACC'][0:,0]#[baseline_to_plot]\n",
        "c_ay=s2_data['signal']['chest']['ACC'][0:,1]#[baseline_to_plot]#[0:100] # hundred values\n",
        "c_az=s2_data['signal']['chest']['ACC'][0:,2]#[baseline_to_plot]\n",
        "c_ecg=s2_data['signal']['chest']['ECG'][:,0]#[baseline_to_plot]\n",
        "c_emg=s2_data['signal']['chest']['EMG'][:,0]#[baseline_to_plot]\n",
        "c_eda=s2_data['signal']['chest']['EDA'][:,0]#[baseline_to_plot]\n",
        "c_temp=s2_data['signal']['chest']['Temp'][:,0]#[baseline_to_plot]\n",
        "c_resp=s2_data['signal']['chest']['Resp'][:,0]#[baseline_to_plot]\n",
        "w_ax=s2_data['signal']['wrist']['ACC'][0:,0]#[stress_to_plot]\n",
        "w_ay=s2_data['signal']['wrist']['ACC'][0:,1]#[stress_to_plot]\n",
        "w_az=s2_data['signal']['wrist']['ACC'][0:,2]#[stress_to_plot]\n",
        "w_bvp=s2_data['signal']['wrist']['BVP'][:,0]#[stress_to_plot]\n",
        "w_eda=s2_data['signal']['wrist']['EDA'][:,0]#[stress_to_plot]\n",
        "w_temp=s2_data['signal']['wrist']['TEMP'][:,0]#[stress_to_plot]\n",
        "w_label=s2_data['label']"
      ],
      "execution_count": null,
      "outputs": []
    },
    {
      "cell_type": "markdown",
      "metadata": {
        "id": "31Jhm0_ddZT0",
        "colab_type": "text"
      },
      "source": [
        "# Rótulos oferecidos pelo Dataset"
      ]
    },
    {
      "cell_type": "code",
      "metadata": {
        "id": "zby0M0tE55U5",
        "colab_type": "code",
        "colab": {
          "base_uri": "https://localhost:8080/",
          "height": 692
        },
        "outputId": "37444aea-5605-4575-985e-6000c83f6d53"
      },
      "source": [
        "baseline_indices = np.nonzero(s2_data['label']==1)[0]\n",
        "stress_indices = np.nonzero(s2_data['label']==2)[0]\n",
        "amusement_indices = np.nonzero(s2_data['label']==3)[0]\n",
        "meditation_indices = np.nonzero(s2_data['label']==4)[0]\n",
        "\n",
        "print(\"baseline_indices\", len(baseline_indices))\n",
        "print(\"stress_indices\", len(stress_indices))\n",
        "print(\"amusement_indices\", len(amusement_indices))\n",
        "print(\"meditation_indices\", len(meditation_indices))\n",
        "\n",
        "fig = plt.figure()\n",
        "ax = fig.add_axes([1,1,2,2])\n",
        "langs = [\"baseline\", \"stress\", \"amusement\",\"meditation\"]\n",
        "y_ax = [len(baseline_indices),len(stress_indices),len(amusement_indices),len(meditation_indices)]\n",
        "ax.bar(langs,y_ax,color = 'b', width = 0.45)\n",
        "fig.savefig('f1.png')\n",
        "plt.show()\n"
      ],
      "execution_count": null,
      "outputs": [
        {
          "output_type": "stream",
          "text": [
            "baseline_indices 800800\n",
            "stress_indices 430500\n",
            "amusement_indices 253400\n",
            "meditation_indices 537599\n"
          ],
          "name": "stdout"
        },
        {
          "output_type": "display_data",
          "data": {
            "image/png": "[encoded data removed]",
            "text/plain": [
              "<Figure size 432x288 with 1 Axes>"
            ]
          },
          "metadata": {
            "tags": [],
            "needs_background": "light"
          }
        }
      ]
    },
    {
      "cell_type": "markdown",
      "metadata": {
        "id": "yIv4XqRInq0x",
        "colab_type": "text"
      },
      "source": [
        "# Contagem de dados por dispositivos"
      ]
    },
    {
      "cell_type": "code",
      "metadata": {
        "id": "A2fpIBPMnqex",
        "colab_type": "code",
        "colab": {
          "base_uri": "https://localhost:8080/",
          "height": 925
        },
        "outputId": "271a3987-6d6c-4eec-8209-72afca9e414f"
      },
      "source": [
        "%matplotlib inline\n",
        "print(\"c_ax\",len(c_ax))\n",
        "print(\"c_ay\",len(c_ay))\n",
        "print(\"c_az\",len(c_az))\n",
        "print(\"c_ecg\",len(c_ecg))\n",
        "print(\"c_emg\",len(c_emg))\n",
        "print(\"c_eda\",len(c_eda))\n",
        "print(\"c_temp\",len(c_temp))\n",
        "print(\"c_resp\",len(c_resp))\n",
        "print(\"w_ax\",len(w_ax))\n",
        "print(\"w_ay\",len(w_ay))\n",
        "print(\"w_az\",len(w_az))\n",
        "print(\"w_bvp\",len(w_bvp))\n",
        "print(\"w_eda\",len(w_eda))\n",
        "print(\"w_temp\",len(w_temp))\n",
        "print(w_label, len(w_label))\n",
        "print(\"Min label value\", min(w_label), \"Max label value\",max(w_label))\n",
        "\n",
        "fig = plt.figure()\n",
        "ax = fig.add_axes([1,1,2,2])\n",
        "langs = [\"c_ax\", \"c_ay\", \"c_az\",\"c_ecg\",\"c_emg\",\"c_eda\",\"c_temp\",\"c_resp\",\"w_ax\",\"w_ay\",\"w_az\",\"w_bvp\",\"w_eda\",\"w_temp\",\"w_label\"]\n",
        "y_ax = [len(c_ax),len(c_ay),len(c_az),len(c_ecg),len(c_emg),len(c_eda),len(c_temp),len(c_resp),len(w_ax),len(w_ay),len(w_az),len(w_bvp),len(w_eda),len(w_temp),len(w_label)]\n",
        "ax.bar(langs,y_ax,color = 'b', width = 0.90)\n",
        "\n",
        "plt.show()\n",
        "plt.savefig('f2.png',dpi=100)"
      ],
      "execution_count": null,
      "outputs": [
        {
          "output_type": "stream",
          "text": [
            "c_ax 4255300\n",
            "c_ay 4255300\n",
            "c_az 4255300\n",
            "c_ecg 4255300\n",
            "c_emg 4255300\n",
            "c_eda 4255300\n",
            "c_temp 4255300\n",
            "c_resp 4255300\n",
            "w_ax 194528\n",
            "w_ay 194528\n",
            "w_az 194528\n",
            "w_bvp 389056\n",
            "w_eda 24316\n",
            "w_temp 24316\n",
            "[0 0 0 ... 0 0 0] 4255300\n",
            "Min label value 0 Max label value 7\n"
          ],
          "name": "stdout"
        },
        {
          "output_type": "display_data",
          "data": {
            "image/png": "[encoded data removed]",
            "text/plain": [
              "<Figure size 432x288 with 1 Axes>"
            ]
          },
          "metadata": {
            "tags": [],
            "needs_background": "light"
          }
        },
        {
          "output_type": "display_data",
          "data": {
            "text/plain": [
              "<Figure size 432x288 with 0 Axes>"
            ]
          },
          "metadata": {
            "tags": []
          }
        }
      ]
    },
    {
      "cell_type": "markdown",
      "metadata": {
        "id": "cpeLHMxjdnlZ",
        "colab_type": "text"
      },
      "source": [
        "# Convertendo dicionário de pickle em quadro de dados do Pandas"
      ]
    },
    {
      "cell_type": "code",
      "metadata": {
        "id": "k2-qCS52dswD",
        "colab_type": "code",
        "colab": {
          "base_uri": "https://localhost:8080/",
          "height": 34
        },
        "outputId": "c8db5746-340f-44e6-a989-3f26fc66e4fd"
      },
      "source": [
        "numpy_data1=np.array([c_ax, c_ay, c_az,c_ecg,c_emg,c_eda,c_temp,c_resp,w_label])\n",
        "numpy_data1=numpy_data1.T\n",
        "df = pd.DataFrame(data=numpy_data1, columns=[\"c_ax\", \"c_ay\", \"c_az\",\"c_ecg\",\"c_emg\",\"c_eda\",\"c_temp\",\"c_resp\",\"w_label\"]) \n",
        "\n",
        "print(\"data frame combinado\")\n"
      ],
      "execution_count": null,
      "outputs": [
        {
          "output_type": "stream",
          "text": [
            "data frame combinado\n"
          ],
          "name": "stdout"
        }
      ]
    },
    {
      "cell_type": "markdown",
      "metadata": {
        "id": "lAt30EbggTcO",
        "colab_type": "text"
      },
      "source": [
        "# Calculando Outliers"
      ]
    },
    {
      "cell_type": "code",
      "metadata": {
        "id": "yPABptH5gK79",
        "colab_type": "code",
        "colab": {
          "base_uri": "https://localhost:8080/",
          "height": 221
        },
        "outputId": "34be68c8-fafd-40a5-ffba-5043adab2f7c"
      },
      "source": [
        "print(\"shape\",df.shape)\n",
        "Q1 = df.quantile(0.25)\n",
        "Q3 = df.quantile(0.75)\n",
        "IQR = Q3 - Q1\n",
        "print(\"IQR is\\n\", IQR)"
      ],
      "execution_count": null,
      "outputs": [
        {
          "output_type": "stream",
          "text": [
            "shape (4255300, 9)\n",
            "IQR is\n",
            " c_ax       0.271200\n",
            "c_ay       0.054000\n",
            "c_az       0.507400\n",
            "c_ecg      0.112335\n",
            "c_emg      0.012314\n",
            "c_eda      0.746918\n",
            "c_temp     1.240173\n",
            "c_resp     3.100586\n",
            "w_label    2.000000\n",
            "dtype: float64\n"
          ],
          "name": "stdout"
        }
      ]
    },
    {
      "cell_type": "markdown",
      "metadata": {
        "id": "GP5aIf-QhqbI",
        "colab_type": "text"
      },
      "source": [
        "# Removendo Outliers"
      ]
    },
    {
      "cell_type": "code",
      "metadata": {
        "id": "Q2aVa9-ChuED",
        "colab_type": "code",
        "colab": {
          "base_uri": "https://localhost:8080/",
          "height": 34
        },
        "outputId": "dec1085e-c7d1-4265-f968-1fbbc9193571"
      },
      "source": [
        "df_out = df[~((df < (Q1 - 1.5 * IQR)) |(df > (Q3 + 1.5 * IQR))).any(axis=1)]\n",
        "print(df_out.shape)\n"
      ],
      "execution_count": null,
      "outputs": [
        {
          "output_type": "stream",
          "text": [
            "(2100456, 9)\n"
          ],
          "name": "stdout"
        }
      ]
    },
    {
      "cell_type": "code",
      "metadata": {
        "id": "WsbwldDxFqqG",
        "colab_type": "code",
        "colab": {}
      },
      "source": [
        "base_df = df_out.loc[(df_out['w_label'] == 0)]\n",
        "stress_df = df_out.loc[(df_out['w_label'] == 1)]\n",
        "amus_df = df_out.loc[(df_out['w_label'] == 2)]\n",
        "medi_df = df_out.loc[(df_out['w_label'] == 3)]"
      ],
      "execution_count": null,
      "outputs": []
    },
    {
      "cell_type": "markdown",
      "metadata": {
        "id": "O4ShVbLKh0Mh",
        "colab_type": "text"
      },
      "source": [
        "# Descrevendo dados"
      ]
    },
    {
      "cell_type": "code",
      "metadata": {
        "id": "UTe9kYn6hzzC",
        "colab_type": "code",
        "colab": {
          "base_uri": "https://localhost:8080/",
          "height": 297
        },
        "outputId": "5f7e0dbb-e1ff-4e98-9559-97994e1e53db"
      },
      "source": [
        "(df_out.describe())"
      ],
      "execution_count": null,
      "outputs": [
        {
          "output_type": "execute_result",
          "data": {
            "text/html": [
              "<div>\n",
              "<style scoped>\n",
              "    .dataframe tbody tr th:only-of-type {\n",
              "        vertical-align: middle;\n",
              "    }\n",
              "\n",
              "    .dataframe tbody tr th {\n",
              "        vertical-align: top;\n",
              "    }\n",
              "\n",
              "    .dataframe thead th {\n",
              "        text-align: right;\n",
              "    }\n",
              "</style>\n",
              "<table border=\"1\" class=\"dataframe\">\n",
              "  <thead>\n",
              "    <tr style=\"text-align: right;\">\n",
              "      <th></th>\n",
              "      <th>c_ax</th>\n",
              "      <th>c_ay</th>\n",
              "      <th>c_az</th>\n",
              "      <th>c_ecg</th>\n",
              "      <th>c_emg</th>\n",
              "      <th>c_eda</th>\n",
              "      <th>c_temp</th>\n",
              "      <th>c_resp</th>\n",
              "      <th>w_label</th>\n",
              "    </tr>\n",
              "  </thead>\n",
              "  <tbody>\n",
              "    <tr>\n",
              "      <th>count</th>\n",
              "      <td>2.100456e+06</td>\n",
              "      <td>2.100456e+06</td>\n",
              "      <td>2.100456e+06</td>\n",
              "      <td>2.100456e+06</td>\n",
              "      <td>2.100456e+06</td>\n",
              "      <td>2.100456e+06</td>\n",
              "      <td>2.100456e+06</td>\n",
              "      <td>2.100456e+06</td>\n",
              "      <td>2.100456e+06</td>\n",
              "    </tr>\n",
              "    <tr>\n",
              "      <th>mean</th>\n",
              "      <td>8.317685e-01</td>\n",
              "      <td>-1.233951e-01</td>\n",
              "      <td>-3.003224e-01</td>\n",
              "      <td>-1.787775e-02</td>\n",
              "      <td>-1.975948e-03</td>\n",
              "      <td>1.091733e+00</td>\n",
              "      <td>3.144793e+01</td>\n",
              "      <td>-2.909448e-02</td>\n",
              "      <td>1.164535e+00</td>\n",
              "    </tr>\n",
              "    <tr>\n",
              "      <th>std</th>\n",
              "      <td>1.124673e-01</td>\n",
              "      <td>2.816034e-02</td>\n",
              "      <td>2.486282e-01</td>\n",
              "      <td>8.312552e-02</td>\n",
              "      <td>8.932746e-03</td>\n",
              "      <td>4.379497e-01</td>\n",
              "      <td>5.746423e-01</td>\n",
              "      <td>2.247824e+00</td>\n",
              "      <td>1.510026e+00</td>\n",
              "    </tr>\n",
              "    <tr>\n",
              "      <th>min</th>\n",
              "      <td>3.218000e-01</td>\n",
              "      <td>-2.308000e-01</td>\n",
              "      <td>-9.208000e-01</td>\n",
              "      <td>-2.364807e-01</td>\n",
              "      <td>-2.677917e-02</td>\n",
              "      <td>2.784729e-01</td>\n",
              "      <td>2.871490e+01</td>\n",
              "      <td>-6.132507e+00</td>\n",
              "      <td>0.000000e+00</td>\n",
              "    </tr>\n",
              "    <tr>\n",
              "      <th>25%</th>\n",
              "      <td>8.298000e-01</td>\n",
              "      <td>-1.418000e-01</td>\n",
              "      <td>-4.118000e-01</td>\n",
              "      <td>-6.573486e-02</td>\n",
              "      <td>-7.736206e-03</td>\n",
              "      <td>7.759094e-01</td>\n",
              "      <td>3.109299e+01</td>\n",
              "      <td>-1.637268e+00</td>\n",
              "      <td>0.000000e+00</td>\n",
              "    </tr>\n",
              "    <tr>\n",
              "      <th>50%</th>\n",
              "      <td>8.786000e-01</td>\n",
              "      <td>-1.258000e-01</td>\n",
              "      <td>-2.696000e-01</td>\n",
              "      <td>2.655029e-03</td>\n",
              "      <td>-1.419067e-03</td>\n",
              "      <td>1.082993e+00</td>\n",
              "      <td>3.136053e+01</td>\n",
              "      <td>-2.746582e-01</td>\n",
              "      <td>0.000000e+00</td>\n",
              "    </tr>\n",
              "    <tr>\n",
              "      <th>75%</th>\n",
              "      <td>9.018000e-01</td>\n",
              "      <td>-1.078000e-01</td>\n",
              "      <td>-1.558000e-01</td>\n",
              "      <td>3.240967e-02</td>\n",
              "      <td>3.936768e-03</td>\n",
              "      <td>1.254272e+00</td>\n",
              "      <td>3.186548e+01</td>\n",
              "      <td>1.618958e+00</td>\n",
              "      <td>2.000000e+00</td>\n",
              "    </tr>\n",
              "    <tr>\n",
              "      <th>max</th>\n",
              "      <td>1.298600e+00</td>\n",
              "      <td>-1.480001e-02</td>\n",
              "      <td>5.502000e-01</td>\n",
              "      <td>2.128601e-01</td>\n",
              "      <td>2.243042e-02</td>\n",
              "      <td>2.666855e+00</td>\n",
              "      <td>3.367465e+01</td>\n",
              "      <td>6.269836e+00</td>\n",
              "      <td>4.000000e+00</td>\n",
              "    </tr>\n",
              "  </tbody>\n",
              "</table>\n",
              "</div>"
            ],
            "text/plain": [
              "               c_ax          c_ay  ...        c_resp       w_label\n",
              "count  2.100456e+06  2.100456e+06  ...  2.100456e+06  2.100456e+06\n",
              "mean   8.317685e-01 -1.233951e-01  ... -2.909448e-02  1.164535e+00\n",
              "std    1.124673e-01  2.816034e-02  ...  2.247824e+00  1.510026e+00\n",
              "min    3.218000e-01 -2.308000e-01  ... -6.132507e+00  0.000000e+00\n",
              "25%    8.298000e-01 -1.418000e-01  ... -1.637268e+00  0.000000e+00\n",
              "50%    8.786000e-01 -1.258000e-01  ... -2.746582e-01  0.000000e+00\n",
              "75%    9.018000e-01 -1.078000e-01  ...  1.618958e+00  2.000000e+00\n",
              "max    1.298600e+00 -1.480001e-02  ...  6.269836e+00  4.000000e+00\n",
              "\n",
              "[8 rows x 9 columns]"
            ]
          },
          "metadata": {
            "tags": []
          },
          "execution_count": 13
        }
      ]
    },
    {
      "cell_type": "code",
      "metadata": {
        "id": "xFLIBQiCiD1Q",
        "colab_type": "code",
        "colab": {
          "base_uri": "https://localhost:8080/",
          "height": 204
        },
        "outputId": "6bfb1528-18a9-465b-dd94-3b4a2aca56b6"
      },
      "source": [
        "(df_out.head())"
      ],
      "execution_count": null,
      "outputs": [
        {
          "output_type": "execute_result",
          "data": {
            "text/html": [
              "<div>\n",
              "<style scoped>\n",
              "    .dataframe tbody tr th:only-of-type {\n",
              "        vertical-align: middle;\n",
              "    }\n",
              "\n",
              "    .dataframe tbody tr th {\n",
              "        vertical-align: top;\n",
              "    }\n",
              "\n",
              "    .dataframe thead th {\n",
              "        text-align: right;\n",
              "    }\n",
              "</style>\n",
              "<table border=\"1\" class=\"dataframe\">\n",
              "  <thead>\n",
              "    <tr style=\"text-align: right;\">\n",
              "      <th></th>\n",
              "      <th>c_ax</th>\n",
              "      <th>c_ay</th>\n",
              "      <th>c_az</th>\n",
              "      <th>c_ecg</th>\n",
              "      <th>c_emg</th>\n",
              "      <th>c_eda</th>\n",
              "      <th>c_temp</th>\n",
              "      <th>c_resp</th>\n",
              "      <th>w_label</th>\n",
              "    </tr>\n",
              "  </thead>\n",
              "  <tbody>\n",
              "    <tr>\n",
              "      <th>393691</th>\n",
              "      <td>0.6430</td>\n",
              "      <td>-0.0600</td>\n",
              "      <td>-0.6966</td>\n",
              "      <td>-0.044998</td>\n",
              "      <td>-0.008011</td>\n",
              "      <td>2.652359</td>\n",
              "      <td>28.717804</td>\n",
              "      <td>-0.965881</td>\n",
              "      <td>1.0</td>\n",
              "    </tr>\n",
              "    <tr>\n",
              "      <th>394476</th>\n",
              "      <td>0.6408</td>\n",
              "      <td>-0.0638</td>\n",
              "      <td>-0.6892</td>\n",
              "      <td>-0.176926</td>\n",
              "      <td>-0.014557</td>\n",
              "      <td>2.648163</td>\n",
              "      <td>28.716339</td>\n",
              "      <td>1.914978</td>\n",
              "      <td>1.0</td>\n",
              "    </tr>\n",
              "    <tr>\n",
              "      <th>395154</th>\n",
              "      <td>0.6394</td>\n",
              "      <td>-0.0602</td>\n",
              "      <td>-0.6918</td>\n",
              "      <td>0.052231</td>\n",
              "      <td>0.009659</td>\n",
              "      <td>2.662659</td>\n",
              "      <td>28.719208</td>\n",
              "      <td>-1.673889</td>\n",
              "      <td>1.0</td>\n",
              "    </tr>\n",
              "    <tr>\n",
              "      <th>396635</th>\n",
              "      <td>0.6354</td>\n",
              "      <td>-0.0684</td>\n",
              "      <td>-0.6998</td>\n",
              "      <td>-0.138611</td>\n",
              "      <td>0.000000</td>\n",
              "      <td>2.662277</td>\n",
              "      <td>28.716339</td>\n",
              "      <td>2.491760</td>\n",
              "      <td>1.0</td>\n",
              "    </tr>\n",
              "    <tr>\n",
              "      <th>402178</th>\n",
              "      <td>0.6392</td>\n",
              "      <td>-0.0626</td>\n",
              "      <td>-0.6972</td>\n",
              "      <td>0.045822</td>\n",
              "      <td>-0.006775</td>\n",
              "      <td>2.648163</td>\n",
              "      <td>28.820953</td>\n",
              "      <td>2.105713</td>\n",
              "      <td>1.0</td>\n",
              "    </tr>\n",
              "  </tbody>\n",
              "</table>\n",
              "</div>"
            ],
            "text/plain": [
              "          c_ax    c_ay    c_az  ...     c_temp    c_resp  w_label\n",
              "393691  0.6430 -0.0600 -0.6966  ...  28.717804 -0.965881      1.0\n",
              "394476  0.6408 -0.0638 -0.6892  ...  28.716339  1.914978      1.0\n",
              "395154  0.6394 -0.0602 -0.6918  ...  28.719208 -1.673889      1.0\n",
              "396635  0.6354 -0.0684 -0.6998  ...  28.716339  2.491760      1.0\n",
              "402178  0.6392 -0.0626 -0.6972  ...  28.820953  2.105713      1.0\n",
              "\n",
              "[5 rows x 9 columns]"
            ]
          },
          "metadata": {
            "tags": []
          },
          "execution_count": 14
        }
      ]
    },
    {
      "cell_type": "code",
      "metadata": {
        "id": "K3h16ED-mYl9",
        "colab_type": "code",
        "colab": {
          "base_uri": "https://localhost:8080/",
          "height": 297
        },
        "outputId": "22ebd2ba-3613-4550-9547-cf35f5477d79"
      },
      "source": [
        "base_df.describe()"
      ],
      "execution_count": null,
      "outputs": [
        {
          "output_type": "execute_result",
          "data": {
            "text/html": [
              "<div>\n",
              "<style scoped>\n",
              "    .dataframe tbody tr th:only-of-type {\n",
              "        vertical-align: middle;\n",
              "    }\n",
              "\n",
              "    .dataframe tbody tr th {\n",
              "        vertical-align: top;\n",
              "    }\n",
              "\n",
              "    .dataframe thead th {\n",
              "        text-align: right;\n",
              "    }\n",
              "</style>\n",
              "<table border=\"1\" class=\"dataframe\">\n",
              "  <thead>\n",
              "    <tr style=\"text-align: right;\">\n",
              "      <th></th>\n",
              "      <th>c_ax</th>\n",
              "      <th>c_ay</th>\n",
              "      <th>c_az</th>\n",
              "      <th>c_ecg</th>\n",
              "      <th>c_emg</th>\n",
              "      <th>c_eda</th>\n",
              "      <th>c_temp</th>\n",
              "      <th>c_resp</th>\n",
              "      <th>w_label</th>\n",
              "    </tr>\n",
              "  </thead>\n",
              "  <tbody>\n",
              "    <tr>\n",
              "      <th>count</th>\n",
              "      <td>1.230433e+06</td>\n",
              "      <td>1.230433e+06</td>\n",
              "      <td>1.230433e+06</td>\n",
              "      <td>1.230433e+06</td>\n",
              "      <td>1.230433e+06</td>\n",
              "      <td>1.230433e+06</td>\n",
              "      <td>1.230433e+06</td>\n",
              "      <td>1.230433e+06</td>\n",
              "      <td>1230433.0</td>\n",
              "    </tr>\n",
              "    <tr>\n",
              "      <th>mean</th>\n",
              "      <td>8.650659e-01</td>\n",
              "      <td>-1.184192e-01</td>\n",
              "      <td>-2.358937e-01</td>\n",
              "      <td>-1.777447e-02</td>\n",
              "      <td>-1.918047e-03</td>\n",
              "      <td>1.072221e+00</td>\n",
              "      <td>3.136766e+01</td>\n",
              "      <td>2.394844e-03</td>\n",
              "      <td>0.0</td>\n",
              "    </tr>\n",
              "    <tr>\n",
              "      <th>std</th>\n",
              "      <td>6.450042e-02</td>\n",
              "      <td>3.159451e-02</td>\n",
              "      <td>2.058045e-01</td>\n",
              "      <td>8.352993e-02</td>\n",
              "      <td>9.542821e-03</td>\n",
              "      <td>4.045076e-01</td>\n",
              "      <td>5.779942e-01</td>\n",
              "      <td>2.366430e+00</td>\n",
              "      <td>0.0</td>\n",
              "    </tr>\n",
              "    <tr>\n",
              "      <th>min</th>\n",
              "      <td>3.302000e-01</td>\n",
              "      <td>-2.308000e-01</td>\n",
              "      <td>-9.096000e-01</td>\n",
              "      <td>-2.364807e-01</td>\n",
              "      <td>-2.677917e-02</td>\n",
              "      <td>2.784729e-01</td>\n",
              "      <td>2.937723e+01</td>\n",
              "      <td>-6.132507e+00</td>\n",
              "      <td>0.0</td>\n",
              "    </tr>\n",
              "    <tr>\n",
              "      <th>25%</th>\n",
              "      <td>8.442000e-01</td>\n",
              "      <td>-1.374000e-01</td>\n",
              "      <td>-3.698000e-01</td>\n",
              "      <td>-6.706238e-02</td>\n",
              "      <td>-8.193970e-03</td>\n",
              "      <td>7.656097e-01</td>\n",
              "      <td>3.093903e+01</td>\n",
              "      <td>-1.763916e+00</td>\n",
              "      <td>0.0</td>\n",
              "    </tr>\n",
              "    <tr>\n",
              "      <th>50%</th>\n",
              "      <td>8.830000e-01</td>\n",
              "      <td>-1.162000e-01</td>\n",
              "      <td>-2.502000e-01</td>\n",
              "      <td>1.693726e-03</td>\n",
              "      <td>-1.510620e-03</td>\n",
              "      <td>1.108932e+00</td>\n",
              "      <td>3.132962e+01</td>\n",
              "      <td>-2.380371e-01</td>\n",
              "      <td>0.0</td>\n",
              "    </tr>\n",
              "    <tr>\n",
              "      <th>75%</th>\n",
              "      <td>9.026000e-01</td>\n",
              "      <td>-1.022000e-01</td>\n",
              "      <td>-1.356000e-01</td>\n",
              "      <td>3.236389e-02</td>\n",
              "      <td>4.577637e-03</td>\n",
              "      <td>1.225281e+00</td>\n",
              "      <td>3.184772e+01</td>\n",
              "      <td>1.803589e+00</td>\n",
              "      <td>0.0</td>\n",
              "    </tr>\n",
              "    <tr>\n",
              "      <th>max</th>\n",
              "      <td>1.298600e+00</td>\n",
              "      <td>-1.480001e-02</td>\n",
              "      <td>5.502000e-01</td>\n",
              "      <td>2.128601e-01</td>\n",
              "      <td>2.243042e-02</td>\n",
              "      <td>2.666855e+00</td>\n",
              "      <td>3.312662e+01</td>\n",
              "      <td>6.269836e+00</td>\n",
              "      <td>0.0</td>\n",
              "    </tr>\n",
              "  </tbody>\n",
              "</table>\n",
              "</div>"
            ],
            "text/plain": [
              "               c_ax          c_ay  ...        c_resp    w_label\n",
              "count  1.230433e+06  1.230433e+06  ...  1.230433e+06  1230433.0\n",
              "mean   8.650659e-01 -1.184192e-01  ...  2.394844e-03        0.0\n",
              "std    6.450042e-02  3.159451e-02  ...  2.366430e+00        0.0\n",
              "min    3.302000e-01 -2.308000e-01  ... -6.132507e+00        0.0\n",
              "25%    8.442000e-01 -1.374000e-01  ... -1.763916e+00        0.0\n",
              "50%    8.830000e-01 -1.162000e-01  ... -2.380371e-01        0.0\n",
              "75%    9.026000e-01 -1.022000e-01  ...  1.803589e+00        0.0\n",
              "max    1.298600e+00 -1.480001e-02  ...  6.269836e+00        0.0\n",
              "\n",
              "[8 rows x 9 columns]"
            ]
          },
          "metadata": {
            "tags": []
          },
          "execution_count": 15
        }
      ]
    },
    {
      "cell_type": "code",
      "metadata": {
        "id": "-kRoC-FLmbiH",
        "colab_type": "code",
        "colab": {
          "base_uri": "https://localhost:8080/",
          "height": 297
        },
        "outputId": "46d11a18-91ec-40a3-edc6-9fd294582caf"
      },
      "source": [
        "stress_df.describe()"
      ],
      "execution_count": null,
      "outputs": [
        {
          "output_type": "execute_result",
          "data": {
            "text/html": [
              "<div>\n",
              "<style scoped>\n",
              "    .dataframe tbody tr th:only-of-type {\n",
              "        vertical-align: middle;\n",
              "    }\n",
              "\n",
              "    .dataframe tbody tr th {\n",
              "        vertical-align: top;\n",
              "    }\n",
              "\n",
              "    .dataframe thead th {\n",
              "        text-align: right;\n",
              "    }\n",
              "</style>\n",
              "<table border=\"1\" class=\"dataframe\">\n",
              "  <thead>\n",
              "    <tr style=\"text-align: right;\">\n",
              "      <th></th>\n",
              "      <th>c_ax</th>\n",
              "      <th>c_ay</th>\n",
              "      <th>c_az</th>\n",
              "      <th>c_ecg</th>\n",
              "      <th>c_emg</th>\n",
              "      <th>c_eda</th>\n",
              "      <th>c_temp</th>\n",
              "      <th>c_resp</th>\n",
              "      <th>w_label</th>\n",
              "    </tr>\n",
              "  </thead>\n",
              "  <tbody>\n",
              "    <tr>\n",
              "      <th>count</th>\n",
              "      <td>53659.000000</td>\n",
              "      <td>53659.000000</td>\n",
              "      <td>53659.000000</td>\n",
              "      <td>53659.000000</td>\n",
              "      <td>53659.000000</td>\n",
              "      <td>53659.000000</td>\n",
              "      <td>53659.000000</td>\n",
              "      <td>53659.000000</td>\n",
              "      <td>53659.0</td>\n",
              "    </tr>\n",
              "    <tr>\n",
              "      <th>mean</th>\n",
              "      <td>0.644033</td>\n",
              "      <td>-0.082243</td>\n",
              "      <td>-0.682666</td>\n",
              "      <td>-0.014250</td>\n",
              "      <td>-0.001975</td>\n",
              "      <td>1.128781</td>\n",
              "      <td>31.701952</td>\n",
              "      <td>0.290094</td>\n",
              "      <td>1.0</td>\n",
              "    </tr>\n",
              "    <tr>\n",
              "      <th>std</th>\n",
              "      <td>0.055506</td>\n",
              "      <td>0.026508</td>\n",
              "      <td>0.112778</td>\n",
              "      <td>0.106077</td>\n",
              "      <td>0.007993</td>\n",
              "      <td>0.081005</td>\n",
              "      <td>1.318731</td>\n",
              "      <td>1.941966</td>\n",
              "      <td>0.0</td>\n",
              "    </tr>\n",
              "    <tr>\n",
              "      <th>min</th>\n",
              "      <td>0.503800</td>\n",
              "      <td>-0.230800</td>\n",
              "      <td>-0.778200</td>\n",
              "      <td>-0.236435</td>\n",
              "      <td>-0.026779</td>\n",
              "      <td>1.016235</td>\n",
              "      <td>28.714905</td>\n",
              "      <td>-6.127930</td>\n",
              "      <td>1.0</td>\n",
              "    </tr>\n",
              "    <tr>\n",
              "      <th>25%</th>\n",
              "      <td>0.626800</td>\n",
              "      <td>-0.095000</td>\n",
              "      <td>-0.713000</td>\n",
              "      <td>-0.111443</td>\n",
              "      <td>-0.006821</td>\n",
              "      <td>1.104736</td>\n",
              "      <td>30.516602</td>\n",
              "      <td>-1.298523</td>\n",
              "      <td>1.0</td>\n",
              "    </tr>\n",
              "    <tr>\n",
              "      <th>50%</th>\n",
              "      <td>0.630200</td>\n",
              "      <td>-0.088200</td>\n",
              "      <td>-0.708400</td>\n",
              "      <td>0.027649</td>\n",
              "      <td>-0.001419</td>\n",
              "      <td>1.128387</td>\n",
              "      <td>31.875854</td>\n",
              "      <td>0.221252</td>\n",
              "      <td>1.0</td>\n",
              "    </tr>\n",
              "    <tr>\n",
              "      <th>75%</th>\n",
              "      <td>0.636200</td>\n",
              "      <td>-0.061800</td>\n",
              "      <td>-0.701400</td>\n",
              "      <td>0.057541</td>\n",
              "      <td>0.003159</td>\n",
              "      <td>1.140976</td>\n",
              "      <td>32.891510</td>\n",
              "      <td>1.899719</td>\n",
              "      <td>1.0</td>\n",
              "    </tr>\n",
              "    <tr>\n",
              "      <th>max</th>\n",
              "      <td>1.297800</td>\n",
              "      <td>-0.014800</td>\n",
              "      <td>0.547400</td>\n",
              "      <td>0.212814</td>\n",
              "      <td>0.022430</td>\n",
              "      <td>2.662659</td>\n",
              "      <td>33.674652</td>\n",
              "      <td>6.266785</td>\n",
              "      <td>1.0</td>\n",
              "    </tr>\n",
              "  </tbody>\n",
              "</table>\n",
              "</div>"
            ],
            "text/plain": [
              "               c_ax          c_ay  ...        c_resp  w_label\n",
              "count  53659.000000  53659.000000  ...  53659.000000  53659.0\n",
              "mean       0.644033     -0.082243  ...      0.290094      1.0\n",
              "std        0.055506      0.026508  ...      1.941966      0.0\n",
              "min        0.503800     -0.230800  ...     -6.127930      1.0\n",
              "25%        0.626800     -0.095000  ...     -1.298523      1.0\n",
              "50%        0.630200     -0.088200  ...      0.221252      1.0\n",
              "75%        0.636200     -0.061800  ...      1.899719      1.0\n",
              "max        1.297800     -0.014800  ...      6.266785      1.0\n",
              "\n",
              "[8 rows x 9 columns]"
            ]
          },
          "metadata": {
            "tags": []
          },
          "execution_count": 16
        }
      ]
    },
    {
      "cell_type": "code",
      "metadata": {
        "id": "p9db1o9FmerI",
        "colab_type": "code",
        "colab": {
          "base_uri": "https://localhost:8080/",
          "height": 297
        },
        "outputId": "d3d373af-fc96-416d-8e3b-7bfa62cadb25"
      },
      "source": [
        "medi_df.describe() "
      ],
      "execution_count": null,
      "outputs": [
        {
          "output_type": "execute_result",
          "data": {
            "text/html": [
              "<div>\n",
              "<style scoped>\n",
              "    .dataframe tbody tr th:only-of-type {\n",
              "        vertical-align: middle;\n",
              "    }\n",
              "\n",
              "    .dataframe tbody tr th {\n",
              "        vertical-align: top;\n",
              "    }\n",
              "\n",
              "    .dataframe thead th {\n",
              "        text-align: right;\n",
              "    }\n",
              "</style>\n",
              "<table border=\"1\" class=\"dataframe\">\n",
              "  <thead>\n",
              "    <tr style=\"text-align: right;\">\n",
              "      <th></th>\n",
              "      <th>c_ax</th>\n",
              "      <th>c_ay</th>\n",
              "      <th>c_az</th>\n",
              "      <th>c_ecg</th>\n",
              "      <th>c_emg</th>\n",
              "      <th>c_eda</th>\n",
              "      <th>c_temp</th>\n",
              "      <th>c_resp</th>\n",
              "      <th>w_label</th>\n",
              "    </tr>\n",
              "  </thead>\n",
              "  <tbody>\n",
              "    <tr>\n",
              "      <th>count</th>\n",
              "      <td>239191.000000</td>\n",
              "      <td>239191.000000</td>\n",
              "      <td>239191.000000</td>\n",
              "      <td>239191.000000</td>\n",
              "      <td>239191.000000</td>\n",
              "      <td>239191.000000</td>\n",
              "      <td>239191.000000</td>\n",
              "      <td>239191.000000</td>\n",
              "      <td>239191.0</td>\n",
              "    </tr>\n",
              "    <tr>\n",
              "      <th>mean</th>\n",
              "      <td>0.908246</td>\n",
              "      <td>-0.146495</td>\n",
              "      <td>-0.096748</td>\n",
              "      <td>-0.015975</td>\n",
              "      <td>-0.002201</td>\n",
              "      <td>0.737416</td>\n",
              "      <td>32.192064</td>\n",
              "      <td>0.059902</td>\n",
              "      <td>3.0</td>\n",
              "    </tr>\n",
              "    <tr>\n",
              "      <th>std</th>\n",
              "      <td>0.006777</td>\n",
              "      <td>0.008612</td>\n",
              "      <td>0.051844</td>\n",
              "      <td>0.066794</td>\n",
              "      <td>0.008332</td>\n",
              "      <td>0.087991</td>\n",
              "      <td>0.311224</td>\n",
              "      <td>2.026582</td>\n",
              "      <td>0.0</td>\n",
              "    </tr>\n",
              "    <tr>\n",
              "      <th>min</th>\n",
              "      <td>0.839800</td>\n",
              "      <td>-0.182800</td>\n",
              "      <td>-0.277400</td>\n",
              "      <td>-0.235794</td>\n",
              "      <td>-0.026779</td>\n",
              "      <td>0.445175</td>\n",
              "      <td>31.501953</td>\n",
              "      <td>-6.132507</td>\n",
              "      <td>3.0</td>\n",
              "    </tr>\n",
              "    <tr>\n",
              "      <th>25%</th>\n",
              "      <td>0.902600</td>\n",
              "      <td>-0.150600</td>\n",
              "      <td>-0.165200</td>\n",
              "      <td>-0.040375</td>\n",
              "      <td>-0.007507</td>\n",
              "      <td>0.687027</td>\n",
              "      <td>31.945496</td>\n",
              "      <td>-1.695251</td>\n",
              "      <td>3.0</td>\n",
              "    </tr>\n",
              "    <tr>\n",
              "      <th>50%</th>\n",
              "      <td>0.910200</td>\n",
              "      <td>-0.146200</td>\n",
              "      <td>-0.071000</td>\n",
              "      <td>0.000778</td>\n",
              "      <td>-0.001694</td>\n",
              "      <td>0.744247</td>\n",
              "      <td>32.144348</td>\n",
              "      <td>-0.416565</td>\n",
              "      <td>3.0</td>\n",
              "    </tr>\n",
              "    <tr>\n",
              "      <th>75%</th>\n",
              "      <td>0.912800</td>\n",
              "      <td>-0.143000</td>\n",
              "      <td>-0.058600</td>\n",
              "      <td>0.018997</td>\n",
              "      <td>0.003479</td>\n",
              "      <td>0.798798</td>\n",
              "      <td>32.380981</td>\n",
              "      <td>1.899719</td>\n",
              "      <td>3.0</td>\n",
              "    </tr>\n",
              "    <tr>\n",
              "      <th>max</th>\n",
              "      <td>0.983200</td>\n",
              "      <td>-0.015000</td>\n",
              "      <td>0.022200</td>\n",
              "      <td>0.212814</td>\n",
              "      <td>0.022430</td>\n",
              "      <td>0.994110</td>\n",
              "      <td>33.055939</td>\n",
              "      <td>6.269836</td>\n",
              "      <td>3.0</td>\n",
              "    </tr>\n",
              "  </tbody>\n",
              "</table>\n",
              "</div>"
            ],
            "text/plain": [
              "                c_ax           c_ay  ...         c_resp   w_label\n",
              "count  239191.000000  239191.000000  ...  239191.000000  239191.0\n",
              "mean        0.908246      -0.146495  ...       0.059902       3.0\n",
              "std         0.006777       0.008612  ...       2.026582       0.0\n",
              "min         0.839800      -0.182800  ...      -6.132507       3.0\n",
              "25%         0.902600      -0.150600  ...      -1.695251       3.0\n",
              "50%         0.910200      -0.146200  ...      -0.416565       3.0\n",
              "75%         0.912800      -0.143000  ...       1.899719       3.0\n",
              "max         0.983200      -0.015000  ...       6.269836       3.0\n",
              "\n",
              "[8 rows x 9 columns]"
            ]
          },
          "metadata": {
            "tags": []
          },
          "execution_count": 17
        }
      ]
    },
    {
      "cell_type": "code",
      "metadata": {
        "id": "dIxKT7xP0wO8",
        "colab_type": "code",
        "colab": {
          "base_uri": "https://localhost:8080/",
          "height": 357
        },
        "outputId": "52159e36-ad9d-4883-a474-6b3464876e9e"
      },
      "source": [
        "base_mean = np.mean(s2_data['signal']['chest']['EDA'][baseline_indices])\n",
        "stress_mean = np.mean(s2_data['signal']['chest']['EDA'][stress_indices])\n",
        "\n",
        "print('base média:\\t', base_mean, '\\nstress media:\\t', stress_mean, '\\n diferença:\\t', abs(base_mean - stress_mean))\n",
        "print('\\n-')\n",
        "\n",
        "\n",
        "base_median = np.median(s2_data['signal']['chest']['EMG'][baseline_indices])\n",
        "stress_median = np.median(s2_data['signal']['chest']['EMG'][stress_indices])\n",
        "\n",
        "print('base mediana:\\t', base_median , '\\nstress mediana:\\t', stress_median, '\\ndiferença:\\t', abs(base_median  - stress_median))\n",
        "print('\\n-')\n",
        "\n",
        "base_min = np.min(s2_data['signal']['chest']['EDA'][baseline_indices])\n",
        "stress_min = np.min(s2_data['signal']['chest']['EDA'][stress_indices])\n",
        "\n",
        "print('base minimo:\\t', base_min, '\\nstress minimo:\\t', stress_min, '\\ndiferença:\\t', abs(base_min - stress_min))\n",
        "print('\\n-')\n",
        "\n",
        "base_max = np.max(s2_data['signal']['chest']['EDA'][baseline_indices])\n",
        "stress_max = np.max(s2_data['signal']['chest']['EDA'][stress_indices])\n",
        "\n",
        "print('base maximo:\\t', base_max , '\\nstress maximo:\\t', stress_max, '\\ndiferença:\\t', abs(base_max  - stress_max))\n",
        "print('\\n-')"
      ],
      "execution_count": null,
      "outputs": [
        {
          "output_type": "stream",
          "text": [
            "base média:\t 2.0565166763968756 \n",
            "stress media:\t 1.796925323876216 \n",
            " diferença:\t 0.2595913525206597\n",
            "\n",
            "-\n",
            "base mediana:\t -0.0019683837890625 \n",
            "stress mediana:\t -0.0017852783203125 \n",
            "diferença:\t 0.00018310546875\n",
            "\n",
            "-\n",
            "base minimo:\t 0.913238525390625 \n",
            "stress minimo:\t 0.968170166015625 \n",
            "diferença:\t 0.054931640625\n",
            "\n",
            "-\n",
            "base maximo:\t 5.7567596435546875 \n",
            "stress maximo:\t 3.4427642822265625 \n",
            "diferença:\t 2.313995361328125\n",
            "\n",
            "-\n"
          ],
          "name": "stdout"
        }
      ]
    }
  ]
}
